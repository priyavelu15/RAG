{
  "cells": [
    {
      "cell_type": "markdown",
      "id": "lf5lYawIw8tE",
      "metadata": {
        "id": "lf5lYawIw8tE"
      },
      "source": [
        "# **Extracting Information from Legal Documents Using RAG**"
      ]
    },
    {
      "cell_type": "markdown",
      "id": "NY1InIbkw80B",
      "metadata": {
        "id": "NY1InIbkw80B"
      },
      "source": [
        "## **Objective**"
      ]
    },
    {
      "cell_type": "markdown",
      "id": "3403a4b5",
      "metadata": {
        "id": "3403a4b5"
      },
      "source": [
        "The main objective of this assignment is to process and analyse a collection text files containing legal agreements (e.g., NDAs) to prepare them for implementing a **Retrieval-Augmented Generation (RAG)** system. This involves:\n",
        "\n",
        "* Understand the Cleaned Data : Gain a comprehensive understanding of the structure, content, and context of the cleaned dataset.\n",
        "* Perform Exploratory Analysis : Conduct bivariate and multivariate analyses to uncover relationships and trends within the cleaned data.\n",
        "* Create Visualisations : Develop meaningful visualisations to support the analysis and make findings interpretable.\n",
        "* Derive Insights and Conclusions : Extract valuable insights from the cleaned data and provide clear, actionable conclusions.\n",
        "* Document the Process : Provide a detailed description of the data, its attributes, and the steps taken during the analysis for reproducibility and clarity.\n",
        "\n",
        "The ultimate goal is to transform the raw text data into a clean, structured, and analysable format that can be effectively used to build and train a RAG system for tasks like information retrieval, question-answering, and knowledge extraction related to legal agreements."
      ]
    },
    {
      "cell_type": "markdown",
      "id": "3TTEcbb5hIM-",
      "metadata": {
        "id": "3TTEcbb5hIM-"
      },
      "source": [
        "### **Business Value**  \n"
      ]
    },
    {
      "cell_type": "markdown",
      "id": "ZsfkEL2CgljF",
      "metadata": {
        "id": "ZsfkEL2CgljF"
      },
      "source": [
        "The project aims to leverage RAG to enhance legal document processing for businesses, law firms, and regulatory bodies. The key business objectives include:\n",
        "\n",
        "* Faster Legal Research: <br> Reduce the time lawyers and compliance officers spend searching for relevant case laws, precedents, statutes, or contract clauses.\n",
        "* Improved Contract Analysis: <br> Automatically extract key terms, obligations, and risks from lengthy contracts.\n",
        "* Regulatory Compliance Monitoring: <br> Help businesses stay updated with legal and regulatory changes by retrieving relevant legal updates.\n",
        "* Enhanced Decision-Making: <br> Provide accurate and context-aware legal insights to assist in risk assessment and legal strategy.\n",
        "\n",
        "\n",
        "**Use Cases**\n",
        "* Legal Chatbots\n",
        "* Contract Review Automation\n",
        "* Tracking Regulatory Changes and Compliance Monitoring\n",
        "* Case Law Analysis of past judgments\n",
        "* Due Diligence & Risk Assessment"
      ]
    },
    {
      "cell_type": "markdown",
      "id": "rDp_EWxVOhUu",
      "metadata": {
        "id": "rDp_EWxVOhUu"
      },
      "source": [
        "## **1. Data Loading, Preparation and Analysis** <font color=red> [20 marks] </font><br>"
      ]
    },
    {
      "cell_type": "markdown",
      "id": "JZGTCfyUxalZ",
      "metadata": {
        "id": "JZGTCfyUxalZ"
      },
      "source": [
        "### **1.1 Data Understanding**"
      ]
    },
    {
      "cell_type": "markdown",
      "id": "ok6sSYNAiG8V",
      "metadata": {
        "id": "ok6sSYNAiG8V"
      },
      "source": [
        "The dataset contains legal documents and contracts collected from various sources. The documents are present as text files (`.txt`) in the *corpus* folder.\n",
        "\n",
        "There are four types of documents in the *courpus* folder, divided into four subfolders.\n",
        "- `contractnli`: contains various non-disclosure and confidentiality agreements\n",
        "- `cuad`: contains contracts with annotated legal clauses\n",
        "- `maud`: contains various merger/acquisition contracts and agreements\n",
        "- `privacy_qa`: a question-answering dataset containing privacy policies\n",
        "\n",
        "The dataset also contains evaluation files in JSON format in the *benchmark* folder. The files contain the questions and their answers, along with sources. For each of the above four folders, there is a `json` file: `contractnli.json`, `cuad.json`, `maud.json` `privacy_qa.json`. The file structure is as follows:\n",
        "\n",
        "```\n",
        "{\n",
        "    \"tests\": [\n",
        "        {\n",
        "            \"query\": <question1>,\n",
        "            \"snippets\": [{\n",
        "                    \"file_path\": <source_file1>,\n",
        "                    \"span\": [ begin_position, end_position ],\n",
        "                    \"answer\": <relevant answer to the question 1>\n",
        "                },\n",
        "                {\n",
        "                    \"file_path\": <source_file2>,\n",
        "                    \"span\": [ begin_position, end_position ],\n",
        "                    \"answer\": <relevant answer to the question 2>\n",
        "                }, ....\n",
        "            ]\n",
        "        },\n",
        "        {\n",
        "            \"query\": <question2>,\n",
        "            \"snippets\": [{<answer context for que 2>}]\n",
        "        },\n",
        "        ... <more queries>\n",
        "    ]\n",
        "}\n",
        "```"
      ]
    },
    {
      "cell_type": "markdown",
      "id": "S7Ac8VxvjWnw",
      "metadata": {
        "id": "S7Ac8VxvjWnw"
      },
      "source": [
        "### **1.2 Load and Preprocess the data** <font color=red> [5 marks] </font><br>"
      ]
    },
    {
      "cell_type": "markdown",
      "id": "gJ8fA4Nh3fHg",
      "metadata": {
        "id": "gJ8fA4Nh3fHg"
      },
      "source": [
        "#### Loading libraries"
      ]
    },
    {
      "cell_type": "code",
      "execution_count": 1,
      "id": "BqyFHhSn48tC",
      "metadata": {
        "colab": {
          "base_uri": "https://localhost:8080/",
          "height": 0
        },
        "id": "BqyFHhSn48tC",
        "outputId": "112b99a9-7655-4a7b-aa6b-9b8660942e69"
      },
      "outputs": [
        {
          "name": "stdout",
          "output_type": "stream",
          "text": [
            "\u001b[?25l   \u001b[90m━━━━━━━━━━━━━━━━━━━━━━━━━━━━━━━━━━━━━━━━\u001b[0m \u001b[32m0.0/63.4 kB\u001b[0m \u001b[31m?\u001b[0m eta \u001b[36m-:--:--\u001b[0m\r\u001b[2K   \u001b[90m━━━━━━━━━━━━━━━━━━━━━━━━━━━━━━━━━━━━━━━━\u001b[0m \u001b[32m63.4/63.4 kB\u001b[0m \u001b[31m1.8 MB/s\u001b[0m eta \u001b[36m0:00:00\u001b[0m\n",
            "\u001b[2K   \u001b[90m━━━━━━━━━━━━━━━━━━━━━━━━━━━━━━━━━━━━━━━━\u001b[0m \u001b[32m438.3/438.3 kB\u001b[0m \u001b[31m7.2 MB/s\u001b[0m eta \u001b[36m0:00:00\u001b[0m\n",
            "\u001b[2K   \u001b[90m━━━━━━━━━━━━━━━━━━━━━━━━━━━━━━━━━━━━━━━━\u001b[0m \u001b[32m2.5/2.5 MB\u001b[0m \u001b[31m12.2 MB/s\u001b[0m eta \u001b[36m0:00:00\u001b[0m\n",
            "\u001b[2K   \u001b[90m━━━━━━━━━━━━━━━━━━━━━━━━━━━━━━━━━━━━━━━━\u001b[0m \u001b[32m44.4/44.4 kB\u001b[0m \u001b[31m2.5 MB/s\u001b[0m eta \u001b[36m0:00:00\u001b[0m\n",
            "\u001b[2K   \u001b[90m━━━━━━━━━━━━━━━━━━━━━━━━━━━━━━━━━━━━━━━━\u001b[0m \u001b[32m50.9/50.9 kB\u001b[0m \u001b[31m3.0 MB/s\u001b[0m eta \u001b[36m0:00:00\u001b[0m\n",
            "\u001b[2K     \u001b[90m━━━━━━━━━━━━━━━━━━━━━━━━━━━━━━━━━━━━━━━━\u001b[0m \u001b[32m67.3/67.3 kB\u001b[0m \u001b[31m3.1 MB/s\u001b[0m eta \u001b[36m0:00:00\u001b[0m\n",
            "\u001b[?25h  Installing build dependencies ... \u001b[?25l\u001b[?25hdone\n",
            "  Getting requirements to build wheel ... \u001b[?25l\u001b[?25hdone\n",
            "  Preparing metadata (pyproject.toml) ... \u001b[?25l\u001b[?25hdone\n",
            "\u001b[2K   \u001b[90m━━━━━━━━━━━━━━━━━━━━━━━━━━━━━━━━━━━━━━━━\u001b[0m \u001b[32m19.0/19.0 MB\u001b[0m \u001b[31m60.0 MB/s\u001b[0m eta \u001b[36m0:00:00\u001b[0m\n",
            "\u001b[2K   \u001b[90m━━━━━━━━━━━━━━━━━━━━━━━━━━━━━━━━━━━━━━━━\u001b[0m \u001b[32m94.9/94.9 kB\u001b[0m \u001b[31m6.9 MB/s\u001b[0m eta \u001b[36m0:00:00\u001b[0m\n",
            "\u001b[2K   \u001b[90m━━━━━━━━━━━━━━━━━━━━━━━━━━━━━━━━━━━━━━━━\u001b[0m \u001b[32m284.2/284.2 kB\u001b[0m \u001b[31m17.7 MB/s\u001b[0m eta \u001b[36m0:00:00\u001b[0m\n",
            "\u001b[2K   \u001b[90m━━━━━━━━━━━━━━━━━━━━━━━━━━━━━━━━━━━━━━━━\u001b[0m \u001b[32m2.0/2.0 MB\u001b[0m \u001b[31m44.1 MB/s\u001b[0m eta \u001b[36m0:00:00\u001b[0m\n",
            "\u001b[2K   \u001b[90m━━━━━━━━━━━━━━━━━━━━━━━━━━━━━━━━━━━━━━━━\u001b[0m \u001b[32m101.6/101.6 kB\u001b[0m \u001b[31m7.8 MB/s\u001b[0m eta \u001b[36m0:00:00\u001b[0m\n",
            "\u001b[2K   \u001b[90m━━━━━━━━━━━━━━━━━━━━━━━━━━━━━━━━━━━━━━━━\u001b[0m \u001b[32m16.4/16.4 MB\u001b[0m \u001b[31m42.4 MB/s\u001b[0m eta \u001b[36m0:00:00\u001b[0m\n",
            "\u001b[2K   \u001b[90m━━━━━━━━━━━━━━━━━━━━━━━━━━━━━━━━━━━━━━━━\u001b[0m \u001b[32m65.8/65.8 kB\u001b[0m \u001b[31m5.0 MB/s\u001b[0m eta \u001b[36m0:00:00\u001b[0m\n",
            "\u001b[2K   \u001b[90m━━━━━━━━━━━━━━━━━━━━━━━━━━━━━━━━━━━━━━━━\u001b[0m \u001b[32m55.9/55.9 kB\u001b[0m \u001b[31m3.6 MB/s\u001b[0m eta \u001b[36m0:00:00\u001b[0m\n",
            "\u001b[2K   \u001b[90m━━━━━━━━━━━━━━━━━━━━━━━━━━━━━━━━━━━━━━━━\u001b[0m \u001b[32m194.9/194.9 kB\u001b[0m \u001b[31m13.9 MB/s\u001b[0m eta \u001b[36m0:00:00\u001b[0m\n",
            "\u001b[2K   \u001b[90m━━━━━━━━━━━━━━━━━━━━━━━━━━━━━━━━━━━━━━━━\u001b[0m \u001b[32m119.0/119.0 kB\u001b[0m \u001b[31m7.6 MB/s\u001b[0m eta \u001b[36m0:00:00\u001b[0m\n",
            "\u001b[2K   \u001b[90m━━━━━━━━━━━━━━━━━━━━━━━━━━━━━━━━━━━━━━━━\u001b[0m \u001b[32m96.7/96.7 kB\u001b[0m \u001b[31m6.9 MB/s\u001b[0m eta \u001b[36m0:00:00\u001b[0m\n",
            "\u001b[2K   \u001b[90m━━━━━━━━━━━━━━━━━━━━━━━━━━━━━━━━━━━━━━━━\u001b[0m \u001b[32m62.5/62.5 kB\u001b[0m \u001b[31m4.0 MB/s\u001b[0m eta \u001b[36m0:00:00\u001b[0m\n",
            "\u001b[2K   \u001b[90m━━━━━━━━━━━━━━━━━━━━━━━━━━━━━━━━━━━━━━━━\u001b[0m \u001b[32m459.8/459.8 kB\u001b[0m \u001b[31m26.0 MB/s\u001b[0m eta \u001b[36m0:00:00\u001b[0m\n",
            "\u001b[2K   \u001b[90m━━━━━━━━━━━━━━━━━━━━━━━━━━━━━━━━━━━━━━━━\u001b[0m \u001b[32m71.5/71.5 kB\u001b[0m \u001b[31m4.8 MB/s\u001b[0m eta \u001b[36m0:00:00\u001b[0m\n",
            "\u001b[2K   \u001b[90m━━━━━━━━━━━━━━━━━━━━━━━━━━━━━━━━━━━━━━━━\u001b[0m \u001b[32m4.0/4.0 MB\u001b[0m \u001b[31m74.3 MB/s\u001b[0m eta \u001b[36m0:00:00\u001b[0m\n",
            "\u001b[2K   \u001b[90m━━━━━━━━━━━━━━━━━━━━━━━━━━━━━━━━━━━━━━━━\u001b[0m \u001b[32m454.8/454.8 kB\u001b[0m \u001b[31m25.8 MB/s\u001b[0m eta \u001b[36m0:00:00\u001b[0m\n",
            "\u001b[2K   \u001b[90m━━━━━━━━━━━━━━━━━━━━━━━━━━━━━━━━━━━━━━━━\u001b[0m \u001b[32m46.0/46.0 kB\u001b[0m \u001b[31m3.1 MB/s\u001b[0m eta \u001b[36m0:00:00\u001b[0m\n",
            "\u001b[2K   \u001b[90m━━━━━━━━━━━━━━━━━━━━━━━━━━━━━━━━━━━━━━━━\u001b[0m \u001b[32m86.8/86.8 kB\u001b[0m \u001b[31m6.5 MB/s\u001b[0m eta \u001b[36m0:00:00\u001b[0m\n",
            "\u001b[?25h  Building wheel for pypika (pyproject.toml) ... \u001b[?25l\u001b[?25hdone\n",
            "\u001b[2K   \u001b[90m━━━━━━━━━━━━━━━━━━━━━━━━━━━━━━━━━━━━━━━━\u001b[0m \u001b[32m491.5/491.5 kB\u001b[0m \u001b[31m9.3 MB/s\u001b[0m eta \u001b[36m0:00:00\u001b[0m\n",
            "\u001b[2K   \u001b[90m━━━━━━━━━━━━━━━━━━━━━━━━━━━━━━━━━━━━━━━━\u001b[0m \u001b[32m193.6/193.6 kB\u001b[0m \u001b[31m13.7 MB/s\u001b[0m eta \u001b[36m0:00:00\u001b[0m\n",
            "\u001b[?25h\u001b[31mERROR: pip's dependency resolver does not currently take into account all the packages that are installed. This behaviour is the source of the following dependency conflicts.\n",
            "torch 2.6.0+cu124 requires nvidia-cublas-cu12==12.4.5.8; platform_system == \"Linux\" and platform_machine == \"x86_64\", but you have nvidia-cublas-cu12 12.5.3.2 which is incompatible.\n",
            "torch 2.6.0+cu124 requires nvidia-cuda-cupti-cu12==12.4.127; platform_system == \"Linux\" and platform_machine == \"x86_64\", but you have nvidia-cuda-cupti-cu12 12.5.82 which is incompatible.\n",
            "torch 2.6.0+cu124 requires nvidia-cuda-nvrtc-cu12==12.4.127; platform_system == \"Linux\" and platform_machine == \"x86_64\", but you have nvidia-cuda-nvrtc-cu12 12.5.82 which is incompatible.\n",
            "torch 2.6.0+cu124 requires nvidia-cuda-runtime-cu12==12.4.127; platform_system == \"Linux\" and platform_machine == \"x86_64\", but you have nvidia-cuda-runtime-cu12 12.5.82 which is incompatible.\n",
            "torch 2.6.0+cu124 requires nvidia-cudnn-cu12==9.1.0.70; platform_system == \"Linux\" and platform_machine == \"x86_64\", but you have nvidia-cudnn-cu12 9.3.0.75 which is incompatible.\n",
            "torch 2.6.0+cu124 requires nvidia-cufft-cu12==11.2.1.3; platform_system == \"Linux\" and platform_machine == \"x86_64\", but you have nvidia-cufft-cu12 11.2.3.61 which is incompatible.\n",
            "torch 2.6.0+cu124 requires nvidia-curand-cu12==10.3.5.147; platform_system == \"Linux\" and platform_machine == \"x86_64\", but you have nvidia-curand-cu12 10.3.6.82 which is incompatible.\n",
            "torch 2.6.0+cu124 requires nvidia-cusolver-cu12==11.6.1.9; platform_system == \"Linux\" and platform_machine == \"x86_64\", but you have nvidia-cusolver-cu12 11.6.3.83 which is incompatible.\n",
            "torch 2.6.0+cu124 requires nvidia-cusparse-cu12==12.3.1.170; platform_system == \"Linux\" and platform_machine == \"x86_64\", but you have nvidia-cusparse-cu12 12.5.1.3 which is incompatible.\n",
            "torch 2.6.0+cu124 requires nvidia-nvjitlink-cu12==12.4.127; platform_system == \"Linux\" and platform_machine == \"x86_64\", but you have nvidia-nvjitlink-cu12 12.5.82 which is incompatible.\n",
            "gcsfs 2025.3.2 requires fsspec==2025.3.2, but you have fsspec 2025.3.0 which is incompatible.\u001b[0m\u001b[31m\n",
            "\u001b[2K   \u001b[90m━━━━━━━━━━━━━━━━━━━━━━━━━━━━━━━━━━━━━━━━\u001b[0m \u001b[32m190.9/190.9 kB\u001b[0m \u001b[31m4.9 MB/s\u001b[0m eta \u001b[36m0:00:00\u001b[0m\n",
            "\u001b[2K   \u001b[90m━━━━━━━━━━━━━━━━━━━━━━━━━━━━━━━━━━━━━━━━\u001b[0m \u001b[32m45.5/45.5 kB\u001b[0m \u001b[31m3.2 MB/s\u001b[0m eta \u001b[36m0:00:00\u001b[0m\n",
            "\u001b[?25h  Preparing metadata (setup.py) ... \u001b[?25l\u001b[?25hdone\n",
            "  Building wheel for rouge_score (setup.py) ... \u001b[?25l\u001b[?25hdone\n"
          ]
        }
      ],
      "source": [
        "## The following libraries might be useful\n",
        "!pip install -q langchain-openai\n",
        "!pip install -U -q langchain-community\n",
        "!pip install -U -q langchain-chroma\n",
        "!pip install -U -q datasets\n",
        "!pip install -U -q ragas\n",
        "!pip install -U -q rouge_score"
      ]
    },
    {
      "cell_type": "code",
      "execution_count": 2,
      "id": "Qpn-qbhAi58F",
      "metadata": {
        "colab": {
          "base_uri": "https://localhost:8080/",
          "height": 0
        },
        "id": "Qpn-qbhAi58F",
        "outputId": "22138aa8-a3a1-4415-b3e5-002918dd4c7b"
      },
      "outputs": [
        {
          "name": "stderr",
          "output_type": "stream",
          "text": [
            "[nltk_data] Downloading package stopwords to /root/nltk_data...\n",
            "[nltk_data]   Unzipping corpora/stopwords.zip.\n"
          ]
        }
      ],
      "source": [
        "# Import essential libraries\n",
        "import os\n",
        "import re\n",
        "import json\n",
        "from collections import Counter\n",
        "from tqdm import tqdm\n",
        "\n",
        "# Import stopwords for text processing\n",
        "import nltk\n",
        "nltk.download('stopwords')\n",
        "from nltk.corpus import stopwords\n",
        "stop_words = set(stopwords.words('english'))\n",
        "\n",
        "# Import vectorization and similarity tools\n",
        "from sklearn.feature_extraction.text import TfidfVectorizer\n",
        "from sklearn.metrics.pairwise import cosine_similarity\n",
        "\n",
        "# Import plotting libraries\n",
        "import matplotlib.pyplot as plt\n",
        "import seaborn as sns"
      ]
    },
    {
      "cell_type": "markdown",
      "id": "zOMf-tfIiOlp",
      "metadata": {
        "id": "zOMf-tfIiOlp"
      },
      "source": [
        "#### **1.2.1** <font color=red> [3 marks] </font>\n",
        "Load all `.txt` files from the folders."
      ]
    },
    {
      "cell_type": "markdown",
      "id": "f2ea36ba",
      "metadata": {
        "id": "f2ea36ba"
      },
      "source": [
        "You can utilise document loaders from the options provided by the LangChain community.\n",
        "\n",
        "Optionally, you can also read the files manually, while ensuring proper handling of encoding issues (e.g., utf-8, latin1). In such case, also store the file content along with metadata (e.g., file name, directory path) for traceability."
      ]
    },
    {
      "cell_type": "code",
      "execution_count": 3,
      "id": "I9rTY8DWx2Wj",
      "metadata": {
        "colab": {
          "base_uri": "https://localhost:8080/",
          "height": 73
        },
        "id": "I9rTY8DWx2Wj",
        "outputId": "8450e487-5ee6-4bea-f908-e2050e1b13ee"
      },
      "outputs": [
        {
          "data": {
            "text/html": [
              "\n",
              "     <input type=\"file\" id=\"files-bdd5a034-fa30-4df0-8ecf-fc85c7be7565\" name=\"files[]\" multiple disabled\n",
              "        style=\"border:none\" />\n",
              "     <output id=\"result-bdd5a034-fa30-4df0-8ecf-fc85c7be7565\">\n",
              "      Upload widget is only available when the cell has been executed in the\n",
              "      current browser session. Please rerun this cell to enable.\n",
              "      </output>\n",
              "      <script>// Copyright 2017 Google LLC\n",
              "//\n",
              "// Licensed under the Apache License, Version 2.0 (the \"License\");\n",
              "// you may not use this file except in compliance with the License.\n",
              "// You may obtain a copy of the License at\n",
              "//\n",
              "//      http://www.apache.org/licenses/LICENSE-2.0\n",
              "//\n",
              "// Unless required by applicable law or agreed to in writing, software\n",
              "// distributed under the License is distributed on an \"AS IS\" BASIS,\n",
              "// WITHOUT WARRANTIES OR CONDITIONS OF ANY KIND, either express or implied.\n",
              "// See the License for the specific language governing permissions and\n",
              "// limitations under the License.\n",
              "\n",
              "/**\n",
              " * @fileoverview Helpers for google.colab Python module.\n",
              " */\n",
              "(function(scope) {\n",
              "function span(text, styleAttributes = {}) {\n",
              "  const element = document.createElement('span');\n",
              "  element.textContent = text;\n",
              "  for (const key of Object.keys(styleAttributes)) {\n",
              "    element.style[key] = styleAttributes[key];\n",
              "  }\n",
              "  return element;\n",
              "}\n",
              "\n",
              "// Max number of bytes which will be uploaded at a time.\n",
              "const MAX_PAYLOAD_SIZE = 100 * 1024;\n",
              "\n",
              "function _uploadFiles(inputId, outputId) {\n",
              "  const steps = uploadFilesStep(inputId, outputId);\n",
              "  const outputElement = document.getElementById(outputId);\n",
              "  // Cache steps on the outputElement to make it available for the next call\n",
              "  // to uploadFilesContinue from Python.\n",
              "  outputElement.steps = steps;\n",
              "\n",
              "  return _uploadFilesContinue(outputId);\n",
              "}\n",
              "\n",
              "// This is roughly an async generator (not supported in the browser yet),\n",
              "// where there are multiple asynchronous steps and the Python side is going\n",
              "// to poll for completion of each step.\n",
              "// This uses a Promise to block the python side on completion of each step,\n",
              "// then passes the result of the previous step as the input to the next step.\n",
              "function _uploadFilesContinue(outputId) {\n",
              "  const outputElement = document.getElementById(outputId);\n",
              "  const steps = outputElement.steps;\n",
              "\n",
              "  const next = steps.next(outputElement.lastPromiseValue);\n",
              "  return Promise.resolve(next.value.promise).then((value) => {\n",
              "    // Cache the last promise value to make it available to the next\n",
              "    // step of the generator.\n",
              "    outputElement.lastPromiseValue = value;\n",
              "    return next.value.response;\n",
              "  });\n",
              "}\n",
              "\n",
              "/**\n",
              " * Generator function which is called between each async step of the upload\n",
              " * process.\n",
              " * @param {string} inputId Element ID of the input file picker element.\n",
              " * @param {string} outputId Element ID of the output display.\n",
              " * @return {!Iterable<!Object>} Iterable of next steps.\n",
              " */\n",
              "function* uploadFilesStep(inputId, outputId) {\n",
              "  const inputElement = document.getElementById(inputId);\n",
              "  inputElement.disabled = false;\n",
              "\n",
              "  const outputElement = document.getElementById(outputId);\n",
              "  outputElement.innerHTML = '';\n",
              "\n",
              "  const pickedPromise = new Promise((resolve) => {\n",
              "    inputElement.addEventListener('change', (e) => {\n",
              "      resolve(e.target.files);\n",
              "    });\n",
              "  });\n",
              "\n",
              "  const cancel = document.createElement('button');\n",
              "  inputElement.parentElement.appendChild(cancel);\n",
              "  cancel.textContent = 'Cancel upload';\n",
              "  const cancelPromise = new Promise((resolve) => {\n",
              "    cancel.onclick = () => {\n",
              "      resolve(null);\n",
              "    };\n",
              "  });\n",
              "\n",
              "  // Wait for the user to pick the files.\n",
              "  const files = yield {\n",
              "    promise: Promise.race([pickedPromise, cancelPromise]),\n",
              "    response: {\n",
              "      action: 'starting',\n",
              "    }\n",
              "  };\n",
              "\n",
              "  cancel.remove();\n",
              "\n",
              "  // Disable the input element since further picks are not allowed.\n",
              "  inputElement.disabled = true;\n",
              "\n",
              "  if (!files) {\n",
              "    return {\n",
              "      response: {\n",
              "        action: 'complete',\n",
              "      }\n",
              "    };\n",
              "  }\n",
              "\n",
              "  for (const file of files) {\n",
              "    const li = document.createElement('li');\n",
              "    li.append(span(file.name, {fontWeight: 'bold'}));\n",
              "    li.append(span(\n",
              "        `(${file.type || 'n/a'}) - ${file.size} bytes, ` +\n",
              "        `last modified: ${\n",
              "            file.lastModifiedDate ? file.lastModifiedDate.toLocaleDateString() :\n",
              "                                    'n/a'} - `));\n",
              "    const percent = span('0% done');\n",
              "    li.appendChild(percent);\n",
              "\n",
              "    outputElement.appendChild(li);\n",
              "\n",
              "    const fileDataPromise = new Promise((resolve) => {\n",
              "      const reader = new FileReader();\n",
              "      reader.onload = (e) => {\n",
              "        resolve(e.target.result);\n",
              "      };\n",
              "      reader.readAsArrayBuffer(file);\n",
              "    });\n",
              "    // Wait for the data to be ready.\n",
              "    let fileData = yield {\n",
              "      promise: fileDataPromise,\n",
              "      response: {\n",
              "        action: 'continue',\n",
              "      }\n",
              "    };\n",
              "\n",
              "    // Use a chunked sending to avoid message size limits. See b/62115660.\n",
              "    let position = 0;\n",
              "    do {\n",
              "      const length = Math.min(fileData.byteLength - position, MAX_PAYLOAD_SIZE);\n",
              "      const chunk = new Uint8Array(fileData, position, length);\n",
              "      position += length;\n",
              "\n",
              "      const base64 = btoa(String.fromCharCode.apply(null, chunk));\n",
              "      yield {\n",
              "        response: {\n",
              "          action: 'append',\n",
              "          file: file.name,\n",
              "          data: base64,\n",
              "        },\n",
              "      };\n",
              "\n",
              "      let percentDone = fileData.byteLength === 0 ?\n",
              "          100 :\n",
              "          Math.round((position / fileData.byteLength) * 100);\n",
              "      percent.textContent = `${percentDone}% done`;\n",
              "\n",
              "    } while (position < fileData.byteLength);\n",
              "  }\n",
              "\n",
              "  // All done.\n",
              "  yield {\n",
              "    response: {\n",
              "      action: 'complete',\n",
              "    }\n",
              "  };\n",
              "}\n",
              "\n",
              "scope.google = scope.google || {};\n",
              "scope.google.colab = scope.google.colab || {};\n",
              "scope.google.colab._files = {\n",
              "  _uploadFiles,\n",
              "  _uploadFilesContinue,\n",
              "};\n",
              "})(self);\n",
              "</script> "
            ],
            "text/plain": [
              "<IPython.core.display.HTML object>"
            ]
          },
          "metadata": {},
          "output_type": "display_data"
        },
        {
          "name": "stdout",
          "output_type": "stream",
          "text": [
            "Saving rag_legal.zip to rag_legal.zip\n"
          ]
        }
      ],
      "source": [
        "# Load the files as documents\n",
        "from google.colab import files # Upload the dataset file (rag_legal.zip)\n",
        "uploaded = files.upload()"
      ]
    },
    {
      "cell_type": "code",
      "execution_count": 4,
      "id": "9D0qDuDY3zlc",
      "metadata": {
        "colab": {
          "base_uri": "https://localhost:8080/",
          "height": 0
        },
        "id": "9D0qDuDY3zlc",
        "outputId": "22ffb271-7f06-4196-dc12-1383c66bd9e0"
      },
      "outputs": [
        {
          "data": {
            "text/plain": [
              "['privacy_qa', 'maud', 'cuad', 'contractnli']"
            ]
          },
          "execution_count": 4,
          "metadata": {},
          "output_type": "execute_result"
        }
      ],
      "source": [
        "import zipfile\n",
        "import os\n",
        "\n",
        "# Defining file paths\n",
        "zip_path = \"rag_legal.zip\"\n",
        "extract_path = \"rag_legal_data\"\n",
        "\n",
        "# Unzipping the uploaded file\n",
        "with zipfile.ZipFile(zip_path, 'r') as zip_ref:\n",
        "    zip_ref.extractall(extract_path)\n",
        "\n",
        "# Checking folder structure\n",
        "base_path = os.path.join(extract_path, \"rag_legal\")\n",
        "corpus_path = os.path.join(base_path, \"corpus\")\n",
        "\n",
        "# Listing contents to confirm extraction\n",
        "os.listdir(corpus_path)"
      ]
    },
    {
      "cell_type": "code",
      "execution_count": 5,
      "id": "IIn0TH8t3_9D",
      "metadata": {
        "colab": {
          "base_uri": "https://localhost:8080/",
          "height": 0
        },
        "id": "IIn0TH8t3_9D",
        "outputId": "df6c0364-2df9-4ac1-a0bc-b816c969f2b0"
      },
      "outputs": [
        {
          "name": "stdout",
          "output_type": "stream",
          "text": [
            "Total documents loaded: 698\n"
          ]
        },
        {
          "data": {
            "text/plain": [
              "{'folder': 'privacy_qa',\n",
              " 'filename': '23andMe.txt',\n",
              " 'file_path': '/content/rag_legal_data/rag_legal/corpus/privacy_qa/23andMe.txt',\n",
              " 'text': 'Aggregate Information: information that has been combined with that of other users and analyzed or evaluated as a whole, such that no specific individual may be reasonably identified.\\nDe-identified Information: information that has been stripped of your Registration Information (eg, your name and contact information) and other identifying data such that you cannot reasonably be identified as an individual, also known as pseudonymized information.\\nIndividual-level Information: information about a single individual\\'s genotypes, diseases or other traits/characteristics, but which is not necessarily tied to Registration Information.\\nPersonal Information: information that can be used to identify you, either alone or in combination with other information.\\n23andMe collects and stores the following types of Personal Information: Registration Information: information you provide about yourself when registering for and/or purchasing our Services (eg name, email, address, user ID and password, and payment information).\\nGenetic Information: information regarding your genotypes (i.e.\\nthe As, Ts, Cs, and Gs at particular locations in your genome), generated through processing of your saliva by 23andMe or by its contractors, successors, or assignees; or otherwise processed by and/or contributed to 23andMe.\\nSelf-Reported Information: information you provide directly to us, including your disease conditions, other health-related information, personal traits, ethnicity, family history, and other information that you enter into surveys, forms, or features while signed in to your 23andMe account.\\nSensitive Information: information about your health, Genetic Information, and certain Self-Reported Information such as racial and ethnic origin, sexual orientation, and political affiliation.\\nUser Content: all information, data, text, software, music, audio, photographs, graphics, video, messages, or other materials - other than Genetic Information and Self-Reported Information-generated by users of 23andMe Services and transmitted, whether publicly or privately, to or through 23andMe.\\nWeb-Behavior Information: information on how you use 23andMe Services collected through log files, cookies, web beacons, and similar technologies, (eg, browser type, domains, page views).\\nInformation you provide directly to us Registration Information.\\nWhen you purchase our Services or create a 23andMe account and register your kit, we collect Personal Information, such as your name, date of birth, billing and shipping address, payment information (eg, credit card) and contact information (eg email, phone number and license number).\\nSelf-Reported Information.\\nYou have the option to provide us with additional information about yourself through surveys, forms, features and applications.\\nFor example, you may provide us with information about your personal traits (eg, eye color, height), ethnicity, disease conditions (eg Type 2 Diabetes), other health-related information (eg pulse rate, cholesterol levels, visual acuity), and family history information (eg information similar to the foregoing about your family members).\\nBefore you disclose information about a family member, you should make sure you have permission from the family member to do so.\\nUser Content.\\nSome of our Services allow you to create and post or upload content, such as data, text, software, music, audio, photographs, graphics, video, messages, or other materials that you create or provide to us through either a public or private transmission (\"User Content\").\\nFor example, User Content includes any discussions, posts, or messages you send on 23andMe\\'s Forums.\\nBlogs and Forums.\\nOur website offers publicly accessible blogs.\\nAdditionally, 23andMe customers may participate in our online Forums.\\nYou should be aware that any information you provide or post in these areas may be read, collected, and used by others who access them.\\nTo request that we remove or de-identify your Personal Information from our blog or Forums, contact us at privacy@23andme.com.\\nPlease note that whenever you post something publicly, it may sometimes be impossible to remove all instances of the posted information, for example, if someone has taken a screenshot of your posting.\\nPlease exercise caution before choosing to share Personal Information publicly on our blogs, Forums or in any other posting.\\nYou may be required to register with a third party application to post a comment.\\nTo learn how the third party application uses your information, please review the third party\\'s privacy statement.\\nSocial media features and widgets.\\nOur Services include Social Media Features, such as the Facebook \"Like\" or \"Share\" button and widgets (\"Features\").\\nThese Features may collect your IP address, which page you are visiting on our site, and may set a cookie to enable the Feature to function properly.\\nThey may also allow third-party social media services to provide us information about you, including your name, email address, and other contact information.\\nThe information we receive is dependent upon your privacy settings with the social network.\\nFeatures are either hosted by a third-party or hosted directly on our site.\\nYour interactions with these Features are governed by the privacy statements of the third party companies providing them.\\nYou should always review and, if necessary, adjust your privacy settings on third party websites and services before linking or connecting them to our website or Service.\\nThird party services (eg, social media).\\nIf you use a third party site, such as Facebook or Twitter, in connection with our Services to communicate with another person (eg, to make or post referrals or to request that we communicate with another person), then in addition to that person\\'s name and contact information, we may also collect other information (eg, your profile picture, network, gender, username, user ID, age range, language, country, friends lists or followers) depending on your privacy settings on the third party site.\\nWe do not control the third party site\\'s information practices, so please review the third partys privacy statement and your settings on the third partys site carefully.\\nReferral information and sharing.\\nWhen you refer a person to 23andMe or choose to share your 23andMe results with another person, we will ask for that person\\'s email address.\\nWe will use their email address solely, as applicable, to make the referral or to communicate your sharing request to them, and we will let your contact know that you requested the communication.\\nBy participating in a referral program or by choosing to share information with another person, you confirm that the person has given you consent for 23andMe to communicate (eg, via email) with him or her.\\nThe person you referred may contact us at privacy@23andme.com to request that we remove this information from our database.\\nFor more information on our referral program, see here.\\nGifts.\\nIf you provide us with Personal Information about others, or if others give us your information, for the purpose of ordering the Service as a gift, we will only use that information for the specific reason for which it was provided to us.\\nOnce a gift recipient registers for his or her Services and agrees to our Privacy Statement, our Terms of Service, and if applicable, certain Consent Documents, his or her Personal Information will be used in manners consistent with this Privacy Statement, and will not be shared with the purchaser, unless they independently choose to share their own Personal Information through the Services with the purchaser.\\nCustomer service.\\nWhen you contact Customer Care or correspond with us about our Service, we collect information to: track and respond to your inquiry; investigate any breach of our Terms of Service, Privacy Statement or applicable laws or regulations; and analyze and improve our Services.\\nInformation related to our genetic testing services Saliva sample and biobanking.\\nTo use our genetic testing services, you must purchase, or receive as a gift, a 23andMe Personal Genetic Service testing kit, create an online account and register your kit, and ship your saliva sample to our third party laboratory.\\nOur laboratory will extract your DNA from your saliva sample for analysis.\\nDuring kit registration you are asked to review our Consent Document for Sample Storage and Additional Genetic Analyses.\\nUnless you consent to sample storage (Biobanking) and additional analyses, your saliva sample and DNA are destroyed after the laboratory completes its work, subject to the laboratory\\'s legal and regulatory requirements.\\nYou can update your sample storage preference to discard a stored sample within your Account Settings once your sample has completed processing.\\nGenetic Information.\\nInformation regarding your genotype (eg the As, Ts, Cs, and Gs at particular locations in your genome), your Genetic Information, is generated when we analyze and process your saliva sample, or when you otherwise contribute or access your Genetic Information through our Services.\\nGenetic Information includes the 23andMe results reported to you as part of our Services, and may be used for other purposes, as outlined in Section 3 below.\\nWeb-Behavior Information collected through tracking technology (eg from cookies and similar technologies) We and our third party service providers use cookies and similar technologies (such as web beacons, tags, scripts and device identifiers) to:\\nhelp us recognize you when you use our Services; customize and improve your experience; provide security; analyze usage of our Services (such as to analyze your interactions with the results, reports, and other features of the Service); gather demographic information about our user base; offer our Services to you; monitor the success of marketing programs; and serve targeted advertising on our site and on other sites around the Internet.\\nIf you reject cookies, you may still use our site, but your ability to use some features or areas of our site may be limited.\\nFor more information, including the types of cookies found on 23andMe and how to control cookies, please read our Cookie Policy.\\nWe may receive reports based on the use of these technologies from third party service providers as de-identified, Individual-level Information or as Aggregate Information (as described in section 4.c).\\nWe and our third party service providers do not use your Sensitive Information, such as Genetic Information and Self-Reported Information, for targeted advertising.\\nGoogle Analytics.\\nGoogle Analytics is used to perform many of the tasks listed above.\\nWe use the User-ID feature of Google Analytics to combine behavioral information across devices and sessions (including authenticated and unauthenticated sessions).\\nWe have enabled the following Google Analytics Advertising features: Remarketing, Google Display Network Impression Reporting, Google Analytics Demographics and Interest Reporting, and DoubleClick Campaign Manager integration.\\nWe do not merge information collected through any Google advertising product with individual-level information collected elsewhere by our Service.\\nLearn more about how Google collects and uses data here.\\nTo opt out of Google Analytics Advertising Features please use Google Ad Settings.\\nTo opt out of Google Analytics entirely please use this link.\\nOther Types of Information We continuously work to enhance our Services with new products, applications and features that may result in the collection of new and different types of information.\\nWe will update our Privacy Statement and/or obtain your prior consent to new processing, as needed.\\n23andMe will use and share your Personal Information with third parties only in the ways that are described in this Privacy Statement.\\nTo provide you with Services and analyze and improve our Services We use the information described above in Section 2 to operate, provide, analyze and improve our Services.\\nThese activities may include, among other things, using your information in a manner consistent with this Privacy Statement to:\\nopen your account, enable purchases and process payments, communicate with you, and implement your requests (eg, referrals); enable and enhance your use of our website and mobile application(s), including authenticatint your visits, providing personalized content and information, and tracking your usage of our Services; contact you about your account, and any relevant information about our Services (eg policy changes, security updates or issues, etc); enforce our Terms of Service and other agreements; monitor, detect, investigate and prevent prohibited or illegal behaviors on our Services, to combat spam and other security risks; and perform research & development activities, which may include, for example, conducting data analysis and research in order to develop new or improve existing products and services, and performing quality control activities.\\nFor individuals located in the European Economic Area (EEA), United Kingdom, or Switzerland (collectively the Designated Countries): We process your Personal Information in this way to provide our Services to you in accordance with our Terms of Service.\\nTo process, analyze and deliver your genetic testing results As described above, to receive results through the Personal Genetic Service, you must create a 23andMe account, register your kit, and submit your saliva sample to our contracted genotyping laboratory, which processes and analyzes your sample to provide us with your raw Genetic Information.\\nOnce we receive your raw Genetic Information from the laboratory, we further analyze it to provide you with our health and/or ancestry reports, dependent on the Service purchased.\\n23andMe continuously works to improve our Services based on our research and product development, and genetic associations identified in scientific literature.\\nIf you are eligible to receive additional reports or updates in the future, you may be notified of or may directly access these updates.\\nFor individuals located in the Designated Countries: We process your Personal Information in this way is to provide our Services to you in accordance with our Terms of Service.\\nTo allow you to share your Personal Information with others 23andMe gives you the ability to share information, including Personal Information, through the Services.\\nYou have the option to share directly with individuals with 23andMe accounts through (i) our Forums, (ii) relative finding features (eg, \"DNA Relatives\"), (iii) other sharing features and tools.\\nYou may also have the ability to share information directly with individuals who have not participated in our Service via a unique, shareable URL or through a social media platform (such information is \"User Content\").\\nSome sharing features, including receiving sharing invitations, may require that you opt-out, however you will always be required to take a positive action, such as opting in, to share sensitive data.\\nFor individuals located in the Designated Countries: Our legal basis for processing your Personal Information for the purpose described above is based on your consent.\\nYou may withdraw your consent at any time, however, the withdrawal of your consent will not affect the lawfulness of processing based on consent before its withdrawal.\\nTo allow you to share your Personal Information for 23andMe Research purposes You have the choice to participate in 23andMe Research by providing your consent.\\n\"23andMe Research\" refers to research aimed at publication in peer-reviewed journals and other research funded by the federal government (such as the National Institutes of Health - NIH) conducted by 23andMe.\\n23andMe Research may be sponsored by, conducted on behalf of, or in collaboration with third parties, such as non-profit foundations, academic institutions or pharmaceutical companies.\\n23andMe Research may study a specific group or population, identify potential areas or targets for therapeutics development, conduct or support the development of drugs, diagnostics or devices to diagnose, predict or treat medical or other health conditions, work with public, private and/or non-profit entities on genetic research initiatives, or otherwise create, commercialize, and apply this new knowledge to improve health care.\\n23andMe Research uses Aggregate and/or Individual-level Genetic Information and Self-Reported Information as specified in the appropriate Consent Document(s), as explained in greater detail below.\\nYour De-identified Genetic and Self-Reported Information may be used for 23andMe Research only if you have consented to this use by completing a Consent Document.\\nIf you have completed the Main Research Consent Document:\\nYour Genetic Information and/or Self-Reported Information will be used for research purposes, but it will be de-identified and will not be linked to your Registration Information.\\n23andMe may use individual-level Genetic Information and Self-Reported Information internally at 23andMe for research purposes.\\n23andMe may share summary statistics, which do not identify any particular individual or contain individual-level information, with our qualified research collaborators.\\nIf you have completed the Individual Level Data Sharing Consent, or additional consent agreement, in addition to the uses above under the Main Consent Document, 23andMe may share De-identified Individual-level Genetic Information and Self-Reported Information with select third party research collaborators for 23andMe partners for Research purposes.\\nWithdrawing your Consent.\\nYou may withdraw your consent to participate in 23andMe Research at any time by changing your consent status within your Account Settings.\\nIf you experience difficulties changing your consent status, contact the Human Protections Administrator at hpa@23andMe.com.\\n23andMe will not include your Genetic Information or Self-Reported Information in studies that start more than 30 days after you withdraw (it may take up to 30 days to withdraw your information after you withdraw your consent).\\nAny research involving your data that has already been performed or published prior to your withdrawal from 23andMe Research will not be reversed, undone, or withdrawn.\\nYou may also discontinue your participation in 23andMe Research by deleting your 23andMe account (as described in section 5.d).\\nWhat happens if you do NOT consent to 23andMe Research?\\nIf you choose not to complete a Consent Document or any additional agreement with 23andMe, your Personal Information will not be used for 23andMe Research.\\nHowever, your Genetic Information and Self-Reported Information may still be used by us and shared with our third party service providers to as outlined in this Privacy Statement.\\nFor individuals located in the Designated Countries: Our legal basis for processing your Sensitive Information for the purpose described above is based on your consent.\\nYou may withdraw your consent at any time, however, the withdrawal of your consent will not affect the lawfulness of processing based on consent before its withdrawal.\\nTo recruit you for external research Research is an important aspect of 23andMes Services and we want to ensure interested participants are aware of additional opportunities to contribute to interesting, novel scientific research conducted by academic institutions, healthcare organizations, pharmaceutical companies, and other groups.\\nIf you have chosen to participate in 23andMe Research, from time to time we may inform you of third party research opportunities for which you may be eligible.\\nFor example, if a university tells us about a new cancer research project, we may send an email to 23andMe research participants who potentially fit the relevant eligibility criteria based on their Self-Reported Information to make them aware of the research project and provide a link to participate with the research organization conducting the study.\\nHowever we will not share Individual-level Genetic Information or Self-Reported Information with any third party without your consent.\\nIf you do not wish to receive these notifications, you can manage them by editing your preferences in your Account Settings.\\nFor individuals located in the Designated Countries: Our legal basis for processing your Sensitive Information for the purpose described above is based on your consent.\\nYou may withdraw your consent at any time, however, the withdrawal of your consent will not affect the lawfulness of processing based on consent before its withdrawal.\\nTo provide customer support When you contact Customer Care, we may use or request Personal Information, including Sensitive Information, as necessary to answer your questions, resolve disputes, and/or investigate and troubleshoot problems or complaints.\\nIn some instances, we may be required to process one customers Personal Information to resolve another customers dispute or request.\\nFor example, if a customer reports behavior that violates our Terms of Service, we will separately process both customers Personal Information and respond separately to each individual as appropriate.\\nWe will not share your Personal Information with another customer without your consent.\\nFor individuals located in the Designated Countries: Our legal basis for processing your Personal Information for the purpose described above depends on the nature of the customer support request.\\nOur legal basis can be to satisfy our contractual or legal obligations and/or our legitimate interest to improve our Services.\\nTo conduct surveys or polls, and obtain testimonials We value your feedback and may send you surveys, polls, or requests for testimonials to improve and optimize our Services.\\nYou are in control of the information you would like to share with us.\\nIf you do not wish to receive these requests, you can manage them in your Account Settings.\\nFor individuals located in the Designated Countries: Our legal basis for processing your Personal Information for the purpose described above is based on our legitimate interest.\\nWe think it is important to continue improving our Services to ensure your continued enjoyment.\\nTo provide you with marketing communications By creating a 23andMe account, you are agreeing that we may send you product and promotional emails or notifications about our Services, and offers on new products, services, promotions or contests.\\nYou can unsubscribe from receiving these marketing communications at any time.\\nTo unsubscribe, click the email footer unsubscribe link or go to the Preferences section of your Account Settings to edit your email notification preferences.\\nYou may not opt-out of receiving non-promotional messages regarding your account, such as technical notices, purchase confirmations, or Service-related emails.\\nIndividuals located in Designated Countries should review Section 9.d.\\nto understand our marketing practices in relation to the Designated Countries.\\nGeneral service providers.\\nWe share the information described above in Section 2 with our third party service providers, as necessary for them to provide their services to us and help us perform our contract with you.\\nService providers are third parties (other companies or individuals) that help us to provide, analyze and improve our Services.\\nWhile 23andMe directly conducts the majority of data processing activities required to provide our Services to you, we engage some third party service providers to assist in supporting our Services, including in the following areas:\\nOrder fulfillment and shipping.\\nOur payment processor processes certain Registration Information, such as your billing address and credit card information, as necessary to enable you to purchase a 23andMe kit from the 23andMe.com online store.\\nOur distribution centers ship your kit(s) to you, and in some cases help return your kit safely to our third party laboratory so your sample can be processed.\\nOur CLIA-certified genotyping lab.\\nTo use our genetic testing services, you must purchase, or receive as a gift, a 23andMe Personal Genetic Service testing kit, and ship your saliva sample to our third party laboratory.\\nOnce delivered, receiving personnel at the laboratory remove and discard kit packaging, which in some cases may contain \"sender information\" (eg, name, address), before testing personnel receive the samples for processing.\\nReceiving personnel do not perform testing, and testing personnel handle saliva samples that are only identified by a unique barcode.\\nWhen the laboratory has completed their analysis, they securely send the resulting Genetic Information to us identified by your unique barcode.\\nDuring kit registration, you are asked to review our Consent Document for Sample Storage and Additional Genetic Analyses.\\nUnless you consent to Biobanking and additional analyses, your saliva sample and DNA are destroyed after the laboratory completes its work, subject to the laboratory\\'s legal and regulatory requirements.\\nShould you wish to update your sample storage preference to discard a stored sample, you can do so within your Account Settings once your sample has completed processing.\\nAs detailed further in Section 5.d.\\n(Account Deletion) our contracted genotyping laboratory will retain certain information as necessary to comply with applicable regulatory and legal obligations.\\nCustomer Care support.\\nOur Customer Care team uses a number of tools to help organize and manage the requests we receive.\\nThese tools help to ensure we provide timely, high quality support.\\nCloud storage, IT, and Security.\\nOur cloud storage providers provide secure storage for information in 23andMe databases, ensure that our infrastructure can support continued use of our Services by 23andMe customers, and protect data in the event of a natural disaster or other disruption to the Service.\\nOur IT and security providers assist with intrusion detection and prevention measures to stop any potential attacks against our networks.\\nWe have these third party experts perform regular penetration tests and periodically audit 23andMes security controls.\\nMarketing and analytics.\\nWhen you use our Services, including our website or mobile app(s), our third party service providers may collect Web-Behavior Information about your visit, such as the links you clicked on, the duration of your visit, and the URLs you visited.\\nThis information can help us improve site navigability and assess our Marketing campaigns.\\nPer applicable data protection regulations, our EU, UK, and International websites present visitors with a cookie opt in to allow the processing described above via Functionality and Advertising Cookies.\\nNOTE: Our service providers act on 23andMe\\'s behalf.\\nWe implement procedures and maintain contractual terms with each service provider to protect the confidentiality and security of your information.\\nHowever, we cannot guarantee the confidentiality and security of your information due to the inherent risks associated with storing and transmitting data electronically.\\n\"Targeted advertising\" service providers We permit third party advertising networks and providers to collect Web-Behavior Information regarding the use of our Services to help us to deliver targeted online advertisements (\"ads\") to you.\\nThey use cookies and similar technologies, to gather information about your browser\\'s or device\\'s visits and usage patterns on our Services and on other websites over time, which helps to better personalize ads to match your interests, and to measure the effectiveness of ad campaigns.\\nFor more information about our marketing practices, please review our Cookie Policy.\\nAggregate information We may share Aggregate Information, which is information that has been stripped of your name and contact information and combined with information of others so that you cannot reasonably be identified as an individual, with third parties.\\nThis Information is different from \"Individual-level\" information and is not Personal Information because it does not identify any particular individual or disclose any particular individuals data.\\nFor example, Aggregate Information may include a statement that \"30% of our female users share a particular genetic trait,\" without providing any data or testing results specific to any individual user.\\nIn contrast, Individual-level Genetic Information or Self-Reported Information consists of data about a single individual\\'s genotypes, diseases or other traits/characteristics information and could reveal whether a specific user has a particular genetic trait, or consist of all of the Genetic Information about that user.\\n23andMe will ask for your consent to share Individual-level Genetic Information or Self-Reported Information with any third party, other than our service providers as necessary for us to provide the Services to you.\\nInformation we share with commonly owned entities We may share some or all of your Personal Information with other companies under common ownership or control of 23andMe, which may include our subsidiaries, our corporate parent, or any other subsidiaries owned by our corporate parent in order to provide you better service and improve user experience.\\nGenerally, sharing such information is necessary for us to perform on our contract with you.\\nWe may provide additional notice and ask for your prior consent if we wish to share your Personal Information with our commonly owned entities in a materially different way than discussed in this Privacy Statement.\\nAs required by law Under certain circumstances your Personal Information may be subject to processing pursuant to laws, regulations, judicial or other government subpoenas, warrants, or orders.\\nFor example, we may be required to disclose Personal Information in coordination with regulatory authorities in response to lawful requests by public authorities, including to meet national security or law enforcement requirements.\\n23andMe will preserve and disclose any and all information to law enforcement agencies or others if required to do so by law or in the good faith belief that such preservation or disclosure is reasonably necessary to: (a) comply with legal or regulatory process (such as a judicial proceeding, court order, or government inquiry) or obligations that 23andMe may owe pursuant to ethical and other professional rules, laws, and regulations; (b) enforce the 23andMe Terms of Service and other policies; (c) respond to claims that any content violates the rights of third parties; or (d) protect the rights, property, or personal safety of 23andMe, its employees, its users, its clients, and the public.\\nView our Transparency Report for more information.\\nNOTE: If you are participating in 23andMe Research, 23andMe will withhold disclosure of your Personal Information involved in such Research in response to judicial or other government subpoenas, warrants or orders in accordance with any applicable Certificate of Confidentiality that 23andMe has obtained from the National Institutes of Health (NIH).\\nThere are limits to what the Certificate of Confidentiality covers so please visit the Certificates of Confidentiality Kiosk.\\nBusiness transactions In the event that 23andMe goes through a business transition such as a merger, acquisition by another company, or sale of all or a portion of its assets your Personal Information will likely be among the assets transferred.\\nIn such a case, your information would remain subject to the promises made in any pre-existing Privacy Statement.\\nAccess to your account We provide access to your 23andMe data within your 23andMe account.\\nYou can access and download data processed by 23andMe within your Account Settings and within applicable Reports, Tools, and features.\\nIf you lose access to your 23andMe account or account email address, please contact Customer Care for assistance.\\nIf you lose access to your 23andMe account, in certain circumstances, we may require that you submit additional information sufficient to verify your identity before providing access or otherwise releasing information to you.\\nIf you choose not to submit the required documentation, or the information provided is not sufficient for the purposes sought, 23andMe will not be able to sufficiently verify your identity in order to complete your request.\\nYou may access, correct or update most of your Registration Information on your own within your Account Settings.\\nYou may also review and update your consent to 23andMe Research and Biobanking.\\nYou may be able to correct Self-Reported Information entered into a survey, form, or feature within your account, such as on the surveys page, by clicking Edit your answers here. Please note that you may not be able to delete User Content that has been shared with others through the Service and that you may not be able to delete information that has been shared with third parties.\\nIndividuals located in Designated Countries should review Section 9.e.\\nto understand their rights to access Personal Information.\\nMarketing communications As noted in Section 3.h.\\nyou may be asked to opt-in to receive product and promotional emails or notifications when creating your 23andMe account depending on where you are located.\\nOtherwise, you may view or update your email notification preferences by visiting your Account Settings or by contacting our Privacy Administrator at privacy@23andMe.com.\\nYou can also click the \"unsubscribe\" button at the bottom of promotional email communications.\\nSharing outside of the 23andMe Services You may decide to share your Personal Information with friends and/or family members, doctors or other health care professionals, and/or other individuals outside of our Services, including through third party services such as social networks and third party apps that connect to our website and mobile apps through our application programming interface (\"API\").\\nThese third parties may use your Personal Information differently than we do under this Privacy Statement.\\nPlease make such choices carefully and review the privacy statements of all other third parties involved in the transaction.\\n23andMe does not endorse or sponsor any API applications, and does not affirm the accuracy or validity of any interpretations made by third party API applications.\\nIn general, it can be difficult to contain or retrieve Personal Information once it has been shared or disclosed.\\n23andMe will have no responsibility or liability for any consequences that may result because you have released or shared Personal Information with others.\\nLikewise, if you are reading this because you have access to the Personal Information of a 23andMe customer through a multi-profile account, we urge you to recognize your responsibility to protect the privacy of each person within that account.\\nUsers with multi-profile accounts (i.e., where multiple family members register their kits to one account) should use caution in setting profile-level privacy settings.\\nAccount deletion If you no longer wish to participate in our Services, or no longer wish to have your Personal Information be processed, you may delete your 23andMe account and Personal Information within your Account Settings.\\nOnce you submit your request, we will send an email to the email address linked to your 23andMe account detailing our account deletion policy and requesting that you to confirm your deletion request.\\nOnce you confirm your request to delete your account and data, your account will no longer be accessible while we process your request.\\nOnce you confirm your request, this process cannot be cancelled, undone, withdrawn, or reversed.\\nWhen your account is deleted, all associated Personal Information is deleted and any stored samples are discarded, subject to the following limitations:\\nInformation previously included in 23andMe Research.\\nAs stated in any applicable Consent Document, Genetic Information and/or Self-Reported Information that you have previously provided and for which you have given consent to use in 23andMe Research cannot be removed from completed studies that use that information.\\nYour data will not be included in studies that start more than 30 days after your account is closed (it may take up to 30 days to withdraw your information after your account is closed).\\nLegal Retention Requirements.\\n23andMe and our third party genotyping laboratory will retain your Genetic Information, date of birth, and sex as required for compliance with applicable legal obligations, including the federal Clinical Laboratory Improvement Amendments of 1988 (CLIA) and CA Business and Professional Code Section 1265 and CAP accreditation requirements.\\n23andMe will also retain limited information related to your account and data deletion request, including but not limited to, your email address, account deletion request identifier, and record of legal agreements for a limited period of time as required by contractual obligations, and/or as necessary for the establishment, exercise or defense of legal claims and for audit and compliance purposes.\\n23andMe takes seriously the trust you place in us.\\n23andMe implements physical, technical, and administrative measures to prevent unauthorized access to or disclosure of your information, to maintain data accuracy, to ensure the appropriate use of information, and otherwise safeguard your Personal Information.\\n23andMe produces secure applications by design.\\n23andMe incorporates explicit security reviews in the software development lifecycle, quality assurance testing and operational deployment.\\nDe-identification/Pseudonymization.\\nRegistration Information is stripped from Sensitive Information, including Genetic and Self-Reported Information.\\nThis data is then assigned a randomly generated ID so an individual cannot reasonably be identified.\\nEncryption.\\n23andMe uses industry standard security measures to encrypt Sensitive Information both at rest and in transit.\\nSeparation of Environments.\\n23andMe ensures processing, production, and research environments are separated and access is restricted.\\nData, including Registration Information, Genetic Information, and Self-Reported Information are segmented across logical database systems to further prevent re-identifiability.\\nLimiting access to essential personnel.\\nWe limit access to Personal Information to authorized personnel, based on job function and role.\\n23andMe access controls include multi-factor authentication, single sign-on, and strict least-privileged authorization policy.\\nDetecting threats and managing vulnerabilities.\\n23andMe uses state of the art intrusion detection and prevention measures to stop any potential attacks against its networks.\\nWe have integrated continuous vulnerability scanning in our processes and regularly engage third party security experts to conduct penetration tests.\\nIncident Management.\\n23andMe maintains a formal incident management program designed to ensure the secure, continuous delivery of its Services.\\n23andMe has implemented an incident management program using industry best practices, including guidance from the National Institute of Standards and Technology (NIST).\\nManaging third party service providers.\\n23andMe requires service providers to implement and maintain accepted industry standard administrative, physical and technical safeguards to protect Personal Information.\\nYour Responsibility.\\nPlease recognize that protecting your Personal Information is also your responsibility.\\nWe ask you to be responsible for safeguarding your password, secret questions and answers, and other authentication information you use to access our Services.\\nYou should not disclose your authentication information to any third party and should immediately notify 23andMe of any unauthorized use of your password.\\n23andMe cannot secure Personal Information that you release on your own or that you request us to release.\\nYour information collected through the Service may be stored and processed in the United States or any other country in which 23andMe or its subsidiaries, affiliates or service providers maintain facilities and, therefore, your information may be subject to the laws of those other jurisdictions which may be different from the laws of your country of residence.\\n23andMe is committed to protecting the privacy of children as well as adults.\\nNeither 23andMe nor any of its Services are designed for, intended to attract, or directed toward children under the age of 18.\\nA parent or guardian, however, may collect a saliva sample from, create an account for, and provide information related to, his or her child who is under the age of 18.\\nThe parent or guardian assumes full responsibility for ensuring that the information that he/she provides to 23andMe about his or her child is kept secure and that the information submitted is accurate.\\n23andMe provides links to third party websites operated by organizations not affiliated with 23andMe.\\n23andMe does not disclose your information to organizations operating such linked third party websites.\\n23andMe does not review or endorse, and is not responsible for, the privacy practices of these organizations.\\nWe encourage you to read the privacy statements of each and every website that you visit.\\nThis Privacy Statement applies solely to information collected by 23andMe and our service providers on our behalf.\\nSection 9 only applies to individuals located in the European Economic Area (EEA), United Kingdom, or Switzerland (the Designated Countries).\\nPrivacy Shield 23andMe participates in and has certified its compliance with both the EU-U.S. and Swiss-U.S. Privacy Shield Frameworks as set forth by the U.S. Department of Commerce regarding the collection, use, and retention of Personal Information transferred from the European Union (EU), European Economic Area (EEA), and Switzerland to the United States, respectively.\\n23andMe is committed to subjecting all Personal Information received from the EU member countries, EEA and Switzerland, in reliance on the Privacy Shield Frameworks, to the Framework\\'s applicable Principles.\\nIf there is any conflict between the terms in this Privacy Statement and the Privacy Shield Principles, the Privacy Shield Principles shall govern.\\nTo learn more about the Privacy Shield program, and to view our certification, please visit U.S. Department of Commerce\\'s Privacy Shield List.\\n23andMe is responsible for the processing of Personal Information it receives, under the Privacy Shield Frameworks, or subsequently transfers to a third party acting as an agent on its behalf.\\n23andMe complies with the Privacy Shield Principles for all onward transfers of Personal Information from the EU, EEA and Switzerland, including the onward transfer liability provisions.\\nWith respect to Personal Information received or transferred pursuant to the Privacy Shield Frameworks, 23andMe is subject to the regulatory enforcement powers of the U.S. Federal Trade Commission.\\nIn certain situations, 23andMe may be required to disclose Personal Information in response to lawful requests by public authorities, including to meet national security or law enforcement requirements.\\nOur relationship with you We are the controller with respect to your Personal Information because we determine the means and purposes of processing your information when using our Services.\\nLegal bases for processing Personal Information from the EU We describe how we process your Personal Information in Sections 2 through 4 of this Privacy Statement.\\nWe may process your Personal Information if you consent to the processing, to satisfy our legal obligations, if it is necessary to carry out our obligations arising from any contracts we entered with you or to take steps at your request prior to entering into a contract with you, or for our legitimate interests to protect our property, rights or safety of 23andMe, our customers or others.\\nDirect Marketing We will obtain your consent where required to send you marketing communications using electronic means.\\nYou may withdraw your consent at any time within your Account Settings or by emailing privacy@23andme.com We will only contact you by electronic means (email, push notification, SMS, etc) with information about our Services that are similar to those which were the subject of a previous sale or negotiations of a sale to you.\\nWe will only share your Personal Information with third parties for marketing purposes with your explicit consent.\\nIf you do not want us to use your Personal Information in this way, please review and update your Account Settings as necessary or contact us at privacy@23andme.com.\\nYou may raise such objection with regard to initial or further processing for purposes of direct marketing at any time and free of charge.\\nThe withdrawal of your consent will not affect the lawfulness of processing based on consent before its withdrawal.\\nOther marketing activities will happen based on the legitimate interests of 23andMe.\\neg, where we tailor marketing communications or send targeted marketing messages via post, phone or social media and other third party platforms; and in providing existing customers with information (via email or other channels) about similar products and services.\\nPrivacy Rights You can exercise your privacy rights by following the instructions below or contacting us at privacy@23andMe.com.\\nWe will handle your request under applicable law.\\nWhen you make a request, we may verify your identity to protect your privacy and security.\\nRight to withdraw consent.\\nTo the extent 23andMe requests and you provide your consent to the processing of your Personal Information, you can withdraw your consent at any time.\\nYour withdrawal will not affect the lawfulness of our processing based on consent before your withdrawal.\\nRight of access to and rectification of your Personal Information.\\nOur site allows you to access and rectify certain Registration Information within your Account Settings, and your Self-Reported Information by going to the surveys page.\\nYou can download your raw Genetic Information within your Account Settings or by going to the applicable tool in Tools. If you would like to access or rectify any other information, contact Customer Care and we will do our best to assist you without undue delay.\\nWe may reject part or all of your request if responding to your request could adversely affect the rights and freedoms of others.\\nRight to erasure (or, Right to be Forgotten).\\nAs explained under Section 5.d.\\n(Account Deletion), we allow our customers to delete theiraccounts at any time.\\nYou can request erasure of Personal Information that: (a) is no longer necessary in relation to the purposes for which it was collected or otherwise processed; (b) was collected in relation to processing to which you previously consented, but later withdrew such consent; or (c) was collected in relation to processing activities to which you object, and there are no overriding legitimate grounds for our processing.\\nIf we have made your Personal Information public and we are required to erase such Personal Information, we will take reasonable steps, including technical measures, to inform controllers that are processing any links to or copies or replications of your Personal Information of your erasure request.\\nOur assistance with your request for erasure is subject to limitations by relevant data protection laws, available technology and the cost of implementation.\\nRight to data portability.\\nIf we process your Personal Information based on a contract with you or based on your consent, or the processing is carried out by automated means, you may request to receive your Personal Information in a structured, commonly used and machine-readable format, and to have us transfer your Personal Information directly to another controller, where technically feasible, unless exercise of this right adversely affects the rights and freedoms of others.\\nA controller is a natural or legal person, public authority, agency or other body which, alone or jointly with others, determines the purposes and means of the processing of your Personal Information.\\nRight to restriction of our processing.\\nYou can restrict our processing of your Personal Information where one of the following applies: (a) you dispute the accuracy of Personal Information processed by 23andMe (for a period enabling us to verify its accuracy); (b) the processing is unlawful and you oppose the erasure of the Personal Information and request the restriction of its use instead; (c) 23andMe no longer needs the Personal Information for the purposes of the processing, but it is required by you for the establishment, exercise or defense of legal claims; and (d) you have objected to certain processing relying on legitimate interest, pending the verification whether 23andMes legitimate grounds override your rights.\\nRestricted Personal Information shall only be processed with your consent or for the establishment, exercise or defense of legal claims or for the protection of the rights of another natural or legal person or for reasons of important public interest.\\nWe will notify you if the restriction is lifted.\\nNotification of erasure, rectification and restriction.\\nWe will provide notice to each recipient that we disclosed your Personal Information to regarding any rectification or erasure of Personal Information or restriction of processing, unless you initiated the disclosure or providing notice proves impossible or involves disproportionate effort.\\nUpon your request, we will share the list of recipients with you.\\nRight to object to processing.\\nWhere the processing of your Personal Information is based on consent, contract, or legitimate interests described under the Legal Bases for Processing heading above, you may restrict or object, at any time, to the processing of your Personal Information as permitted by applicable law.\\nWe may continue to process your Personal Information if it is necessary for the defense of legal claims, or for any other exceptions permitted by applicable law.\\nAutomated individual decision-making, including profiling.\\nYou have the right not to be subject to a decision based solely on automated processing, including profiling, which produces legal or similarly significant effects on you, except as allowed under applicable data protection laws.\\nRetention of your Personal Information.\\nUnless you make a request for us to delete your account or delete certain Personal Information (i.e., User Content, etc), we will store your Personal Information as long as your account is open.\\nIf you request to delete your account, we will take the steps described under Your Choices  Account Deletion and delete all your Personal Information, unless a longer retention period is required or permitted by law.\\nThe rights described above may be limited by local laws.\\nFurther, your right of access and deletion is not absolute and may not be available if fulfillment of such right would, among other things:\\ncause interference with execution and enforcement of the law and legal private rights (such as in the case of the investigation or detection of legal claims or the right to a fair trial); breach or prejudice the rights of confidentiality and security of others; prejudice security or grievance investigations, corporate re-organizations, future and ongoing negotiations with third parties, the compliance with regulatory requirements relating to economic and financial management; or otherwise violate the interests of others or where the burden or cost of providing access would be disproportionate.\\nComplaints If you believe that we have infringed your rights, we encourage you to contact us so that we can try to address your concerns or dispute informally.\\nOur contact information is:\\nGlobal Privacy Officer, 23andMe, Inc., 899 West Evelyn Avenue, Mountain View, CA 94041 1.800.239.5230, privacy@23andme.com\\nAlternatively, you may contact 23andMes EU member representative, DPR Group, at https://www.dpr.eu.com/23andme.\\n23andMes commitment to the EU-U.S. and Swiss-U.S. Privacy Shield Frameworks entitle you to lodge a complaint via our Privacy Shield independent dispute resolution mechanism.\\nTo send your privacy complaints under the Privacy Shield Principles, please contact the BBB EU PRIVACY SHIELD, operated by the Council of Better Business Bureaus.\\nIf you do not receive timely acknowledgment of your complaint, or if your complaint is not satisfactorily addressed, please visit https://www.bbb.org/EU-privacy-shield/for-eu-consumers for more information and/or to file a complaint.\\nAs a last resort and under limited circumstances, EU, EEA and Swiss individuals with residual privacy complaints may invoke a binding arbitration option before the Privacy Shield Panel.\\nYou also have a right to lodge a complaint with a competent supervisory authority situated in a Member State of your habitual residence, place of work, or place of alleged infringement.\\nYou can find the relevant supervisory authority name and contact details here: https://ec.europa.eu/info/law/law-topic/data-protection/reform/what-are-data-protection-authorities-dpas_en.\\nWhenever this Privacy Statement is changed in a material way, a notice will be posted as part of this Privacy Statement and on our website for 30 days.\\nAfter 30 days the changes will become effective.\\nIn addition, all customers will receive an email with notification of the changes prior to the change becoming effective.\\n23andMe may provide additional \"just-in-time\" disclosures or additional information about the data collection, use and sharing practices of specific Services.\\nSuch notices may supplement or clarify 23andMes privacy practices or may provide you with additional choices about how 23andMe processes your Personal Information.\\nIf you have questions about this Privacy Statement, or wish to submit a complaint, please email 23andMe\\'s Privacy Administrator at privacy@23andme.com, or send a letter to:\\nPrivacy Administrator 23andMe, Inc. 899 West Evelyn Avenue Mountain View, CA 94041 1.800.239.5230\\n*This Privacy Statement was last updated on July 17, 2018.\\n'}"
            ]
          },
          "execution_count": 5,
          "metadata": {},
          "output_type": "execute_result"
        }
      ],
      "source": [
        "# Defineing path to the corpus directory\n",
        "corpus_path = os.path.join(extract_path, \"rag_legal\", \"corpus\")\n",
        "\n",
        "# Creating a list to hold the documents with metadata\n",
        "documents = []\n",
        "\n",
        "# Loop through each subfolder (e.g., contractnli, maud, etc.)\n",
        "for folder_name in os.listdir(corpus_path):\n",
        "    folder_path = os.path.join(corpus_path, folder_name)\n",
        "\n",
        "    # Ensuring it's a directory\n",
        "    if not os.path.isdir(folder_path):\n",
        "        continue\n",
        "\n",
        "    # Looping through all .txt files in the folder\n",
        "    for filename in os.listdir(folder_path):\n",
        "        file_path = os.path.join(folder_path, filename)\n",
        "\n",
        "        try:\n",
        "            with open(file_path, 'r', encoding='utf-8', errors='ignore') as file:\n",
        "                text = file.read()\n",
        "\n",
        "            # Storing text along with relevant metadata\n",
        "            documents.append({\n",
        "                'folder': folder_name,\n",
        "                'filename': filename,\n",
        "                'file_path': file_path,\n",
        "                'text': text\n",
        "            })\n",
        "\n",
        "        except Exception as e:\n",
        "            print(f\"Error reading file {file_path}: {e}\")\n",
        "\n",
        "# Print how many documents were loaded and preview the first one\n",
        "print(f\"Total documents loaded: {len(documents)}\")\n",
        "documents[0]"
      ]
    },
    {
      "cell_type": "markdown",
      "id": "K4HYLoUjwmMs",
      "metadata": {
        "id": "K4HYLoUjwmMs"
      },
      "source": [
        "#### **1.2.2** <font color=red> [2 marks] </font>\n",
        "Preprocess the text data to remove noise and prepare it for analysis."
      ]
    },
    {
      "cell_type": "markdown",
      "id": "e9793fdf",
      "metadata": {
        "id": "e9793fdf"
      },
      "source": [
        "Remove special characters, extra whitespace, and irrelevant content such as email and telephone contact info.\n",
        "Normalise text (e.g., convert to lowercase, remove stop words).\n",
        "Handle missing or corrupted data by logging errors and skipping problematic files."
      ]
    },
    {
      "cell_type": "code",
      "execution_count": 6,
      "id": "1ec87e69",
      "metadata": {
        "colab": {
          "base_uri": "https://localhost:8080/",
          "height": 0
        },
        "id": "1ec87e69",
        "outputId": "863d7d04-db51-41d6-a084-7ac63148132b"
      },
      "outputs": [
        {
          "name": "stdout",
          "output_type": "stream",
          "text": [
            "Cleaning documents:\n"
          ]
        },
        {
          "name": "stderr",
          "output_type": "stream",
          "text": [
            "100%|██████████| 698/698 [00:15<00:00, 44.75it/s] "
          ]
        },
        {
          "name": "stdout",
          "output_type": "stream",
          "text": [
            "\n",
            "Sample cleaned text:\n",
            "\n",
            "aggregate information information that has been combined with that of other users and analyzed or evaluated as a whole such that no specific individual may be reasonably identified deidentified information information that has been stripped of your registration information eg your name and contact information and other identifying data such that you cannot reasonably be identified as an individual also known as pseudonymized information individuallevel information information about a single individuals genotypes diseases or other traitscharacteristics but which is not necessarily tied to registration information personal information information that can be used to identify you either alone or in combination with other information 23andme collects and stores the following types of personal \n"
          ]
        },
        {
          "name": "stderr",
          "output_type": "stream",
          "text": [
            "\n"
          ]
        }
      ],
      "source": [
        "# Clean and preprocess the data\n",
        "import re\n",
        "from tqdm import tqdm\n",
        "\n",
        "# This will store the cleaned version of each doc\n",
        "cleaned_documents = []\n",
        "\n",
        "# Custom function to clean a single document's text\n",
        "def clean_text(text):\n",
        "    # Converting to lowercase\n",
        "    text = text.lower()\n",
        "    # Removing emails and phone numbers\n",
        "    text = re.sub(r'\\S+@\\S+', '', text)\n",
        "    text = re.sub(r'\\(?\\d{3,4}\\)?[-.\\s]?\\d{3,4}[-.\\s]?\\d{4}', '', text)\n",
        "    # Removing special characters and extra whitespace\n",
        "    text = re.sub(r'[^a-z0-9\\s]', '', text)\n",
        "    text = re.sub(r'\\s+', ' ', text)\n",
        "    return text.strip()\n",
        "\n",
        "# Applying cleaning to all loaded documents\n",
        "print(\"Cleaning documents:\")\n",
        "for doc in tqdm(documents):\n",
        "    cleaned_text = clean_text(doc[\"text\"])\n",
        "    cleaned_doc = {\n",
        "        \"folder\": doc[\"folder\"],\n",
        "        \"filename\": doc[\"filename\"],\n",
        "        \"file_path\": doc[\"file_path\"],\n",
        "        \"cleaned_text\": cleaned_text\n",
        "    }\n",
        "    cleaned_documents.append(cleaned_doc)\n",
        "\n",
        "# Displaying one cleaned sample\n",
        "print(\"\\nSample cleaned text:\\n\")\n",
        "print(cleaned_documents[0][\"cleaned_text\"][:800])"
      ]
    },
    {
      "cell_type": "markdown",
      "id": "b9e90470",
      "metadata": {
        "id": "b9e90470"
      },
      "source": [
        "### **1.3 Exploratory Data Analysis** <font color=red> [10 marks] </font><br>"
      ]
    },
    {
      "cell_type": "markdown",
      "id": "Nd1K4yhIzyPp",
      "metadata": {
        "id": "Nd1K4yhIzyPp"
      },
      "source": [
        "#### **1.3.1** <font color=red> [1 marks] </font>\n",
        "Calculate the average, maximum and minimum document length."
      ]
    },
    {
      "cell_type": "code",
      "execution_count": 7,
      "id": "tQT1UIcOHSp9",
      "metadata": {
        "colab": {
          "base_uri": "https://localhost:8080/",
          "height": 0
        },
        "id": "tQT1UIcOHSp9",
        "outputId": "4fc77890-2beb-4105-9fc7-f2187da7f87e"
      },
      "outputs": [
        {
          "name": "stdout",
          "output_type": "stream",
          "text": [
            "Average document length: 16012.82 words\n",
            "Maximum document length: 155964 words\n",
            "Minimum document length: 217 words\n"
          ]
        }
      ],
      "source": [
        "# Calculate the average, maximum and minimum document length.\n",
        "\n",
        "doc_lengths = [len(doc['cleaned_text'].split()) for doc in cleaned_documents]\n",
        "\n",
        "# Computing average, max, and min length\n",
        "avg_length = sum(doc_lengths) / len(doc_lengths)\n",
        "max_length = max(doc_lengths)\n",
        "min_length = min(doc_lengths)\n",
        "\n",
        "# Print the results\n",
        "print(f\"Average document length: {avg_length:.2f} words\")\n",
        "print(f\"Maximum document length: {max_length} words\")\n",
        "print(f\"Minimum document length: {min_length} words\")"
      ]
    },
    {
      "cell_type": "markdown",
      "id": "uDcIzpKc5XDU",
      "metadata": {
        "id": "uDcIzpKc5XDU"
      },
      "source": [
        "This shows that some documents (like merger agreements) are extremely long, while others are much shorter (likely privacy policy answers or summaries)."
      ]
    },
    {
      "cell_type": "markdown",
      "id": "18xQu__O0wLv",
      "metadata": {
        "id": "18xQu__O0wLv"
      },
      "source": [
        "#### **1.3.2** <font color=red> [4 marks] </font>\n",
        "Analyse the frequency of occurrence of words and find the most and least occurring words."
      ]
    },
    {
      "cell_type": "markdown",
      "id": "IQ_i5YfFH2dg",
      "metadata": {
        "id": "IQ_i5YfFH2dg"
      },
      "source": [
        "Find the 20 most common and least common words in the text. Ignore stop words such as articles and prepositions."
      ]
    },
    {
      "cell_type": "code",
      "execution_count": 8,
      "id": "Q8eiDTy2Ic8z",
      "metadata": {
        "colab": {
          "base_uri": "https://localhost:8080/",
          "height": 0
        },
        "id": "Q8eiDTy2Ic8z",
        "outputId": "1592fc83-c94a-4dce-a69f-a4e1a6d488a7"
      },
      "outputs": [
        {
          "name": "stdout",
          "output_type": "stream",
          "text": [
            "Most Common 20 Words:\n",
            "any: 250593\n",
            "company: 148170\n",
            "such: 108309\n",
            "shall: 107995\n",
            "agreement: 104559\n",
            "as: 100961\n",
            "other: 87309\n",
            "section: 75344\n",
            "its: 66764\n",
            "not: 60785\n",
            "parent: 58009\n",
            "all: 53564\n",
            "party: 49657\n",
            "each: 40075\n",
            "date: 39294\n",
            "under: 38555\n",
            "have: 37708\n",
            "has: 35995\n",
            "which: 35649\n",
            "time: 35251\n",
            "\n",
            "Least Common 20 Words (occurred only once):\n",
            "informationgenerated: 1\n",
            "acuity: 1\n",
            "screenshot: 1\n",
            "unauthenticated: 1\n",
            "authenticatint: 1\n",
            "ancestry: 1\n",
            "shareable: 1\n",
            "peerreviewed: 1\n",
            "tells: 1\n",
            "nonpromotional: 1\n",
            "23andmecom: 1\n",
            "cliacertified: 1\n",
            "navigability: 1\n",
            "profilelevel: 1\n",
            "deidentificationpseudonymization: 1\n",
            "segmented: 1\n",
            "reidentifiability: 1\n",
            "multifactor: 1\n",
            "signon: 1\n",
            "leastprivileged: 1\n"
          ]
        }
      ],
      "source": [
        "# Find frequency of occurrence of words\n",
        "from collections import Counter\n",
        "\n",
        "# Using a basic custom stopword list (can be expanded later)\n",
        "stop_words = set([\"the\", \"and\", \"is\", \"in\", \"to\", \"of\", \"a\", \"for\", \"on\", \"with\", \"at\", \"by\", \"an\", \"be\", \"this\", \"that\", \"or\", \"from\"])\n",
        "\n",
        "# Combine all words from all cleaned documents into one list\n",
        "all_words = \" \".join(doc['cleaned_text'] for doc in cleaned_documents).split()\n",
        "\n",
        "# Removing stopwords\n",
        "filtered_words = [word for word in all_words if word not in stop_words]\n",
        "\n",
        "# Counting word frequencies\n",
        "word_counts = Counter(filtered_words)\n",
        "\n",
        "# Getting 20 most common words\n",
        "most_common_words = word_counts.most_common(20)\n",
        "\n",
        "# Getting 20 least common words (occur exactly once)\n",
        "least_common_words = [item for item in word_counts.items() if item[1] == 1][:20]\n",
        "\n",
        "# Displaying results\n",
        "print(\"Most Common 20 Words:\")\n",
        "for word, count in most_common_words:\n",
        "    print(f\"{word}: {count}\")\n",
        "\n",
        "print(\"\\nLeast Common 20 Words (occurred only once):\")\n",
        "for word, count in least_common_words:\n",
        "    print(f\"{word}: {count}\")"
      ]
    },
    {
      "cell_type": "markdown",
      "id": "o88WT_nZ53ta",
      "metadata": {
        "id": "o88WT_nZ53ta"
      },
      "source": [
        "* The most common words are highly relevant to legal documents — terms like company, agreement, shall, section, and party appear frequently, which is expected in contracts and policies.\n",
        "\n",
        "* The least common words (occurring only once) seem to be typos, domain-specific tokens, or unique references — often from privacy policies like toandme. or information-generated.\n",
        "\n",
        "\n"
      ]
    },
    {
      "cell_type": "markdown",
      "id": "xlF55RNjz9pQ",
      "metadata": {
        "id": "xlF55RNjz9pQ"
      },
      "source": [
        "#### **1.3.3** <font color=red> [4 marks] </font>\n",
        "Analyse the similarity of different documents to each other based on TF-IDF vectors."
      ]
    },
    {
      "cell_type": "markdown",
      "id": "jciCNMelOGPJ",
      "metadata": {
        "id": "jciCNMelOGPJ"
      },
      "source": [
        "Transform some documents to TF-IDF vectors and calculate their similarity matrix using a suitable distance function. If contracts contain duplicate or highly similar clauses, similarity calculation can help detect them.\n",
        "\n",
        "Identify for the first 10 documents and then for 10 random documents. What do you observe?"
      ]
    },
    {
      "cell_type": "code",
      "execution_count": 9,
      "id": "M-_SrvDcMnKi",
      "metadata": {
        "colab": {
          "base_uri": "https://localhost:8080/",
          "height": 0
        },
        "id": "M-_SrvDcMnKi",
        "outputId": "19b520d4-6bbd-46f0-b3d0-9f202fc4578b"
      },
      "outputs": [
        {
          "name": "stdout",
          "output_type": "stream",
          "text": [
            "Similarity among first 10 documents:\n",
            "Doc 0 vs Doc 1: 0.9806\n",
            "Doc 0 vs Doc 2: 0.9796\n",
            "Doc 0 vs Doc 3: 0.9519\n",
            "Doc 0 vs Doc 4: 0.9589\n",
            "Doc 0 vs Doc 5: 0.9385\n",
            "Doc 0 vs Doc 6: 0.9585\n",
            "Doc 0 vs Doc 7: 0.5008\n",
            "Doc 0 vs Doc 8: 0.5026\n",
            "Doc 0 vs Doc 9: 0.5155\n",
            "Doc 1 vs Doc 0: 0.9806\n",
            "Doc 1 vs Doc 2: 0.9806\n",
            "Doc 1 vs Doc 3: 0.9576\n",
            "Doc 1 vs Doc 4: 0.9675\n",
            "Doc 1 vs Doc 5: 0.9610\n",
            "Doc 1 vs Doc 6: 0.9563\n",
            "Doc 1 vs Doc 7: 0.5302\n",
            "Doc 1 vs Doc 8: 0.5233\n",
            "Doc 1 vs Doc 9: 0.5447\n",
            "Doc 2 vs Doc 0: 0.9796\n",
            "Doc 2 vs Doc 1: 0.9806\n",
            "Doc 2 vs Doc 3: 0.9694\n",
            "Doc 2 vs Doc 4: 0.9760\n",
            "Doc 2 vs Doc 5: 0.9560\n",
            "Doc 2 vs Doc 6: 0.9657\n",
            "Doc 2 vs Doc 7: 0.4895\n",
            "Doc 2 vs Doc 8: 0.4899\n",
            "Doc 2 vs Doc 9: 0.5065\n",
            "Doc 3 vs Doc 0: 0.9519\n",
            "Doc 3 vs Doc 1: 0.9576\n",
            "Doc 3 vs Doc 2: 0.9694\n",
            "Doc 3 vs Doc 4: 0.9727\n",
            "Doc 3 vs Doc 5: 0.9434\n",
            "Doc 3 vs Doc 6: 0.9639\n",
            "Doc 3 vs Doc 7: 0.4676\n",
            "Doc 3 vs Doc 8: 0.4676\n",
            "Doc 3 vs Doc 9: 0.4777\n",
            "Doc 4 vs Doc 0: 0.9589\n",
            "Doc 4 vs Doc 1: 0.9675\n",
            "Doc 4 vs Doc 2: 0.9760\n",
            "Doc 4 vs Doc 3: 0.9727\n",
            "Doc 4 vs Doc 5: 0.9579\n",
            "Doc 4 vs Doc 6: 0.9761\n",
            "Doc 4 vs Doc 7: 0.4034\n",
            "Doc 4 vs Doc 8: 0.3975\n",
            "Doc 4 vs Doc 9: 0.4146\n",
            "Doc 5 vs Doc 0: 0.9385\n",
            "Doc 5 vs Doc 1: 0.9610\n",
            "Doc 5 vs Doc 2: 0.9560\n",
            "Doc 5 vs Doc 3: 0.9434\n",
            "Doc 5 vs Doc 4: 0.9579\n",
            "Doc 5 vs Doc 6: 0.9405\n",
            "Doc 5 vs Doc 7: 0.4855\n",
            "Doc 5 vs Doc 8: 0.4801\n",
            "Doc 5 vs Doc 9: 0.4980\n",
            "Doc 6 vs Doc 0: 0.9585\n",
            "Doc 6 vs Doc 1: 0.9563\n",
            "Doc 6 vs Doc 2: 0.9657\n",
            "Doc 6 vs Doc 3: 0.9639\n",
            "Doc 6 vs Doc 4: 0.9761\n",
            "Doc 6 vs Doc 5: 0.9405\n",
            "Doc 6 vs Doc 7: 0.3716\n",
            "Doc 6 vs Doc 8: 0.3769\n",
            "Doc 6 vs Doc 9: 0.3856\n",
            "Doc 7 vs Doc 0: 0.5008\n",
            "Doc 7 vs Doc 1: 0.5302\n",
            "Doc 7 vs Doc 2: 0.4895\n",
            "Doc 7 vs Doc 3: 0.4676\n",
            "Doc 7 vs Doc 4: 0.4034\n",
            "Doc 7 vs Doc 5: 0.4855\n",
            "Doc 7 vs Doc 6: 0.3716\n",
            "Doc 7 vs Doc 8: 0.9818\n",
            "Doc 7 vs Doc 9: 0.9871\n",
            "Doc 8 vs Doc 0: 0.5026\n",
            "Doc 8 vs Doc 1: 0.5233\n",
            "Doc 8 vs Doc 2: 0.4899\n",
            "Doc 8 vs Doc 3: 0.4676\n",
            "Doc 8 vs Doc 4: 0.3975\n",
            "Doc 8 vs Doc 5: 0.4801\n",
            "Doc 8 vs Doc 6: 0.3769\n",
            "Doc 8 vs Doc 7: 0.9818\n",
            "Doc 8 vs Doc 9: 0.9744\n",
            "Doc 9 vs Doc 0: 0.5155\n",
            "Doc 9 vs Doc 1: 0.5447\n",
            "Doc 9 vs Doc 2: 0.5065\n",
            "Doc 9 vs Doc 3: 0.4777\n",
            "Doc 9 vs Doc 4: 0.4146\n",
            "Doc 9 vs Doc 5: 0.4980\n",
            "Doc 9 vs Doc 6: 0.3856\n",
            "Doc 9 vs Doc 7: 0.9871\n",
            "Doc 9 vs Doc 8: 0.9744\n"
          ]
        }
      ],
      "source": [
        "# Transform the page contents of documents\n",
        "\n",
        "# We'll take only the first 100 documents for performance reasons\n",
        "texts = [doc['cleaned_text'] for doc in cleaned_documents[:100]]\n",
        "\n",
        "# Compute similarity scores\n",
        "from sklearn.feature_extraction.text import TfidfVectorizer\n",
        "from sklearn.metrics.pairwise import cosine_similarity\n",
        "\n",
        "# Creating the TF-IDF matrix\n",
        "vectorizer = TfidfVectorizer(max_features=1000)\n",
        "tfidf_matrix = vectorizer.fit_transform(texts)\n",
        "\n",
        "# Calculating cosine similarity matrix\n",
        "similarity_matrix = cosine_similarity(tfidf_matrix)\n",
        "\n",
        "# Displaying similarity for first 10 documents\n",
        "print(\"Similarity among first 10 documents:\")\n",
        "for i in range(10):\n",
        "    for j in range(10):\n",
        "        if i != j:\n",
        "            print(f\"Doc {i} vs Doc {j}: {similarity_matrix[i][j]:.4f}\")"
      ]
    },
    {
      "cell_type": "code",
      "execution_count": 10,
      "id": "pd99eXtnK2DU",
      "metadata": {
        "colab": {
          "base_uri": "https://localhost:8080/",
          "height": 0
        },
        "id": "pd99eXtnK2DU",
        "outputId": "a92d4e7d-2960-471e-cf39-2c0f66ed9846"
      },
      "outputs": [
        {
          "name": "stdout",
          "output_type": "stream",
          "text": [
            "Random document indices: [9, 5, 7, 20, 4, 97, 6, 93, 55, 68]\n"
          ]
        }
      ],
      "source": [
        "# create a list of 10 random integers\n",
        "import random\n",
        "\n",
        "# Generating 10 random unique indices from the first 100 documents\n",
        "random_indices = random.sample(range(100), 10)\n",
        "print(\"Random document indices:\", random_indices)"
      ]
    },
    {
      "cell_type": "code",
      "execution_count": 11,
      "id": "t31ngfZTJimS",
      "metadata": {
        "colab": {
          "base_uri": "https://localhost:8080/",
          "height": 0
        },
        "id": "t31ngfZTJimS",
        "outputId": "8e774976-c7db-4b21-9a96-d0d6542c9eff"
      },
      "outputs": [
        {
          "name": "stdout",
          "output_type": "stream",
          "text": [
            "Similarity among 10 random documents:\n",
            "Doc 9 vs Doc 5: 0.4980\n",
            "Doc 9 vs Doc 7: 0.9871\n",
            "Doc 9 vs Doc 20: 0.9841\n",
            "Doc 9 vs Doc 4: 0.4146\n",
            "Doc 9 vs Doc 97: 0.9883\n",
            "Doc 9 vs Doc 6: 0.3856\n",
            "Doc 9 vs Doc 93: 0.9866\n",
            "Doc 9 vs Doc 55: 0.9929\n",
            "Doc 9 vs Doc 68: 0.9834\n",
            "Doc 5 vs Doc 9: 0.4980\n",
            "Doc 5 vs Doc 7: 0.4855\n",
            "Doc 5 vs Doc 20: 0.4917\n",
            "Doc 5 vs Doc 4: 0.9579\n",
            "Doc 5 vs Doc 97: 0.4862\n",
            "Doc 5 vs Doc 6: 0.9405\n",
            "Doc 5 vs Doc 93: 0.4877\n",
            "Doc 5 vs Doc 55: 0.4888\n",
            "Doc 5 vs Doc 68: 0.4795\n",
            "Doc 7 vs Doc 9: 0.9871\n",
            "Doc 7 vs Doc 5: 0.4855\n",
            "Doc 7 vs Doc 20: 0.9814\n",
            "Doc 7 vs Doc 4: 0.4034\n",
            "Doc 7 vs Doc 97: 0.9956\n",
            "Doc 7 vs Doc 6: 0.3716\n",
            "Doc 7 vs Doc 93: 0.9883\n",
            "Doc 7 vs Doc 55: 0.9928\n",
            "Doc 7 vs Doc 68: 0.9818\n",
            "Doc 20 vs Doc 9: 0.9841\n",
            "Doc 20 vs Doc 5: 0.4917\n",
            "Doc 20 vs Doc 7: 0.9814\n",
            "Doc 20 vs Doc 4: 0.4111\n",
            "Doc 20 vs Doc 97: 0.9811\n",
            "Doc 20 vs Doc 6: 0.3764\n",
            "Doc 20 vs Doc 93: 0.9700\n",
            "Doc 20 vs Doc 55: 0.9801\n",
            "Doc 20 vs Doc 68: 0.9651\n",
            "Doc 4 vs Doc 9: 0.4146\n",
            "Doc 4 vs Doc 5: 0.9579\n",
            "Doc 4 vs Doc 7: 0.4034\n",
            "Doc 4 vs Doc 20: 0.4111\n",
            "Doc 4 vs Doc 97: 0.4035\n",
            "Doc 4 vs Doc 6: 0.9761\n",
            "Doc 4 vs Doc 93: 0.4058\n",
            "Doc 4 vs Doc 55: 0.4063\n",
            "Doc 4 vs Doc 68: 0.3996\n",
            "Doc 97 vs Doc 9: 0.9883\n",
            "Doc 97 vs Doc 5: 0.4862\n",
            "Doc 97 vs Doc 7: 0.9956\n",
            "Doc 97 vs Doc 20: 0.9811\n",
            "Doc 97 vs Doc 4: 0.4035\n",
            "Doc 97 vs Doc 6: 0.3725\n",
            "Doc 97 vs Doc 93: 0.9867\n",
            "Doc 97 vs Doc 55: 0.9942\n",
            "Doc 97 vs Doc 68: 0.9824\n",
            "Doc 6 vs Doc 9: 0.3856\n",
            "Doc 6 vs Doc 5: 0.9405\n",
            "Doc 6 vs Doc 7: 0.3716\n",
            "Doc 6 vs Doc 20: 0.3764\n",
            "Doc 6 vs Doc 4: 0.9761\n",
            "Doc 6 vs Doc 97: 0.3725\n",
            "Doc 6 vs Doc 93: 0.3787\n",
            "Doc 6 vs Doc 55: 0.3785\n",
            "Doc 6 vs Doc 68: 0.3757\n",
            "Doc 93 vs Doc 9: 0.9866\n",
            "Doc 93 vs Doc 5: 0.4877\n",
            "Doc 93 vs Doc 7: 0.9883\n",
            "Doc 93 vs Doc 20: 0.9700\n",
            "Doc 93 vs Doc 4: 0.4058\n",
            "Doc 93 vs Doc 97: 0.9867\n",
            "Doc 93 vs Doc 6: 0.3787\n",
            "Doc 93 vs Doc 55: 0.9926\n",
            "Doc 93 vs Doc 68: 0.9928\n",
            "Doc 55 vs Doc 9: 0.9929\n",
            "Doc 55 vs Doc 5: 0.4888\n",
            "Doc 55 vs Doc 7: 0.9928\n",
            "Doc 55 vs Doc 20: 0.9801\n",
            "Doc 55 vs Doc 4: 0.4063\n",
            "Doc 55 vs Doc 97: 0.9942\n",
            "Doc 55 vs Doc 6: 0.3785\n",
            "Doc 55 vs Doc 93: 0.9926\n",
            "Doc 55 vs Doc 68: 0.9895\n",
            "Doc 68 vs Doc 9: 0.9834\n",
            "Doc 68 vs Doc 5: 0.4795\n",
            "Doc 68 vs Doc 7: 0.9818\n",
            "Doc 68 vs Doc 20: 0.9651\n",
            "Doc 68 vs Doc 4: 0.3996\n",
            "Doc 68 vs Doc 97: 0.9824\n",
            "Doc 68 vs Doc 6: 0.3757\n",
            "Doc 68 vs Doc 93: 0.9928\n",
            "Doc 68 vs Doc 55: 0.9895\n"
          ]
        }
      ],
      "source": [
        "# Compute similarity scores for 10 random documents\n",
        "print(\"Similarity among 10 random documents:\")\n",
        "for i in random_indices:\n",
        "    for j in random_indices:\n",
        "        if i != j:\n",
        "            print(f\"Doc {i} vs Doc {j}: {similarity_matrix[i][j]:.4f}\")"
      ]
    },
    {
      "cell_type": "markdown",
      "id": "vS_Gjeof7OTT",
      "metadata": {
        "id": "vS_Gjeof7OTT"
      },
      "source": [
        "**Observations:**\n",
        "\n",
        "1. Many documents show extremely high similarity scores (e.g., > 0.99), especially between documents like:\n",
        "   - Doc 26 vs Doc 11\n",
        "   - Doc 29 vs Doc 37\n",
        "   - Doc 11 vs Doc 29\n",
        "\n",
        "   This suggests that some documents may have duplicated or near-duplicated content or standardized clauses (common in legal documents).\n",
        "\n",
        "2. Lower similarity scores (e.g., < 0.5) between some documents indicate diversity in topics or sections covered.\n",
        "\n",
        "3. Most high-similarity pairs were found in both the first 10 and randomly selected documents, which indicates redundancy and template-like language in parts of the dataset.\n",
        "\n",
        "\n",
        "\n",
        "**TF-IDF similarity analysis is useful in identifying duplicate or heavily templated content in legal documents. This can help in reducing redundancy and optimizing document storage or clause extraction in future RAG systems.**"
      ]
    },
    {
      "cell_type": "markdown",
      "id": "3cfd0f53",
      "metadata": {
        "id": "3cfd0f53"
      },
      "source": [
        "### **1.4 Document Creation and Chunking** <font color=red> [5 marks] </font><br>"
      ]
    },
    {
      "cell_type": "markdown",
      "id": "pCw3NzcE3waS",
      "metadata": {
        "id": "pCw3NzcE3waS"
      },
      "source": [
        "#### **1.4.1** <font color=red> [5 marks] </font>\n",
        "Perform appropriate steps to split the text into chunks."
      ]
    },
    {
      "cell_type": "code",
      "execution_count": 12,
      "id": "TjZ6yf9r2p1F",
      "metadata": {
        "colab": {
          "base_uri": "https://localhost:8080/",
          "height": 0
        },
        "id": "TjZ6yf9r2p1F",
        "outputId": "7a0397d4-bd39-4c66-8f86-9bbbe414b560"
      },
      "outputs": [
        {
          "name": "stdout",
          "output_type": "stream",
          "text": [
            "Total chunks created: 86305\n",
            "\n",
            "Sample chunk:\n",
            "{'chunk_id': '23andMe.txt_chunk_0', 'chunk_text': 'aggregate information information that has been combined with that of other users and analyzed or evaluated as a whole such that no specific individual may be reasonably identified deidentified information information that has been stripped of your registration information eg your name and contact information and other identifying data such that you cannot reasonably be identified as an individual also known as pseudonymized information individuallevel information information about a single individuals genotypes diseases or other traitscharacteristics but which is not necessarily tied to registration information personal information information that can be used to identify you either alone or in combination with other information 23andme collects and stores the following types of personal information registration information information you provide about yourself when registering for andor purchasing our services eg name email address user id and password and payment information', 'source_file': '23andMe.txt', 'folder': 'privacy_qa'}\n"
          ]
        }
      ],
      "source": [
        "# Process files and generate chunks\n",
        "\n",
        "# Importing the text splitter from LangChain\n",
        "from langchain.text_splitter import RecursiveCharacterTextSplitter\n",
        "\n",
        "# Initializing the splitter with appropriate chunk size and overlap\n",
        "text_splitter = RecursiveCharacterTextSplitter(\n",
        "    chunk_size=1000,        # Number of characters per chunk\n",
        "    chunk_overlap=200       # Overlap to preserve context\n",
        ")\n",
        "\n",
        "# Creating a list to store all the chunks\n",
        "chunked_documents = []\n",
        "\n",
        "# Looping through each cleaned document and split into chunks\n",
        "for doc in cleaned_documents:\n",
        "    # Spliting the text\n",
        "    chunks = text_splitter.split_text(doc['cleaned_text'])\n",
        "\n",
        "    # Storing each chunk along with its source metadata\n",
        "    for i, chunk in enumerate(chunks):\n",
        "        chunked_documents.append({\n",
        "            'chunk_id': f\"{doc['filename']}_chunk_{i}\",\n",
        "            'chunk_text': chunk,\n",
        "            'source_file': doc['filename'],\n",
        "            'folder': doc['folder']\n",
        "        })\n",
        "\n",
        "# Print the number of chunks created\n",
        "print(f\"Total chunks created: {len(chunked_documents)}\")\n",
        "\n",
        "# Displaying a sample chunk\n",
        "print(\"\\nSample chunk:\")\n",
        "print(chunked_documents[0])"
      ]
    },
    {
      "cell_type": "markdown",
      "id": "nOgkJPyi-W0n",
      "metadata": {
        "id": "nOgkJPyi-W0n"
      },
      "source": [
        "**Observations:**\n",
        "\n",
        "- A total of **86,305 chunks** were created by splitting the original 698 documents.\n",
        "- Each chunk is around 1,000 characters with a 200-character overlap to maintain context.\n",
        "- Chunk metadata includes `chunk_id`, original filename, and folder category for traceability.\n",
        "- This structure will help downstream tasks like RAG retrieval and answer grounding by enabling efficient, granular search over the text corpus."
      ]
    },
    {
      "cell_type": "markdown",
      "id": "LeAeTqpZ-DYw",
      "metadata": {
        "id": "LeAeTqpZ-DYw"
      },
      "source": [
        "## **2. Vector Database and RAG Chain Creation** <font color=red> [15 marks] </font><br>"
      ]
    },
    {
      "cell_type": "markdown",
      "id": "YoH_Ac6K6aQZ",
      "metadata": {
        "id": "YoH_Ac6K6aQZ"
      },
      "source": [
        "### **2.1 Vector Embedding and Vector Database Creation** <font color=red> [7 marks] </font><br>"
      ]
    },
    {
      "cell_type": "markdown",
      "id": "bBfj5ycC59lU",
      "metadata": {
        "id": "bBfj5ycC59lU"
      },
      "source": [
        "#### **2.1.1** <font color=red> [2 marks] </font>\n",
        "Initialise an embedding function for loading the embeddings into the vector database."
      ]
    },
    {
      "cell_type": "markdown",
      "id": "v-QeR5N_7jiw",
      "metadata": {
        "id": "v-QeR5N_7jiw"
      },
      "source": [
        "Initialise a function to transform the text to vectors using OPENAI Embeddings module. You can also use this function to transform during vector DB creation itself."
      ]
    },
    {
      "cell_type": "code",
      "execution_count": 13,
      "id": "b3Jaq3HEhpxN",
      "metadata": {
        "id": "b3Jaq3HEhpxN"
      },
      "outputs": [],
      "source": [
        "# Fetch your OPENAI API Key as an environment variable\n",
        "\n",
        "os.environ[\"OPENAI_API_KEY\"] = \"your-api-key-here\"  # Replace with your key during local execution\""
      ]
    },
    {
      "cell_type": "code",
      "execution_count": 14,
      "id": "purQgINbhpxO",
      "metadata": {
        "id": "purQgINbhpxO"
      },
      "outputs": [],
      "source": [
        "# Initialise an embedding function\n",
        "from langchain_openai import OpenAIEmbeddings\n",
        "\n",
        "embedding_function = OpenAIEmbeddings(model=\"text-embedding-3-small\")"
      ]
    },
    {
      "cell_type": "markdown",
      "id": "WTkTIerj5-KI",
      "metadata": {
        "id": "WTkTIerj5-KI"
      },
      "source": [
        "#### **2.1.2** <font color=red> [5 marks] </font>\n",
        "Load the embeddings to a vector database."
      ]
    },
    {
      "cell_type": "markdown",
      "id": "o6rEbd7477R8",
      "metadata": {
        "id": "o6rEbd7477R8"
      },
      "source": [
        "Create a directory for vector database and enter embedding data to the vector DB."
      ]
    },
    {
      "cell_type": "code",
      "execution_count": 15,
      "id": "IaqfjQJf2v8Y",
      "metadata": {
        "colab": {
          "base_uri": "https://localhost:8080/",
          "height": 0
        },
        "id": "IaqfjQJf2v8Y",
        "outputId": "3b4c0eaf-946b-4684-a0dc-a4829ab37cb7"
      },
      "outputs": [
        {
          "name": "stdout",
          "output_type": "stream",
          "text": [
            "Vectorstore created with 86305 documents.\n"
          ]
        }
      ],
      "source": [
        "# Add Chunks to vector DB\n",
        "\n",
        "# Importing required modules\n",
        "from langchain_community.vectorstores import Chroma\n",
        "from langchain_core.documents import Document\n",
        "\n",
        "# Converting chunked data into Document format suitable for vector DB\n",
        "docs_for_vector_db = [\n",
        "    Document(\n",
        "        page_content=chunk['chunk_text'],\n",
        "        metadata={\"source\": chunk['source_file'], \"folder\": chunk['folder']}\n",
        "    )\n",
        "    for chunk in chunked_documents\n",
        "]\n",
        "\n",
        "# Create and save the vector DB locally\n",
        "vectorstore = Chroma.from_documents(\n",
        "    documents=docs_for_vector_db,\n",
        "    embedding=embedding_function,\n",
        "    persist_directory=\"vector_db\"  # Saves to local directory\n",
        ")\n",
        "\n",
        "# Just checking if everything got added\n",
        "print(f\"Vectorstore created with {len(docs_for_vector_db)} documents.\")"
      ]
    },
    {
      "cell_type": "markdown",
      "id": "978619ac",
      "metadata": {
        "id": "978619ac"
      },
      "source": [
        "### **2.2 Create RAG Chain** <font color=red> [8 marks] </font><br>"
      ]
    },
    {
      "cell_type": "markdown",
      "id": "Rczna1Xy_1bq",
      "metadata": {
        "id": "Rczna1Xy_1bq"
      },
      "source": [
        "#### **2.2.1** <font color=red> [5 marks] </font>\n",
        "Create a RAG chain."
      ]
    },
    {
      "cell_type": "code",
      "execution_count": 16,
      "id": "sEzxYN93Ygju",
      "metadata": {
        "colab": {
          "base_uri": "https://localhost:8080/",
          "height": 0
        },
        "id": "sEzxYN93Ygju",
        "outputId": "0ea08a77-9187-4c76-a9a6-c125338232d5"
      },
      "outputs": [
        {
          "name": "stdout",
          "output_type": "stream",
          "text": [
            "RAG chain created successfully.\n"
          ]
        },
        {
          "name": "stderr",
          "output_type": "stream",
          "text": [
            "<ipython-input-16-4972cf774f15>:8: LangChainDeprecationWarning: The class `Chroma` was deprecated in LangChain 0.2.9 and will be removed in 1.0. An updated version of the class exists in the :class:`~langchain-chroma package and should be used instead. To use it run `pip install -U :class:`~langchain-chroma` and import as `from :class:`~langchain_chroma import Chroma``.\n",
            "  retriever = Chroma(\n"
          ]
        }
      ],
      "source": [
        "# Create a RAG chain\n",
        "\n",
        "# Importing required modules\n",
        "from langchain.chains import RetrievalQA\n",
        "from langchain_openai import ChatOpenAI\n",
        "\n",
        "# Load the saved vector database and set it up as a retriever\n",
        "retriever = Chroma(\n",
        "    persist_directory=\"vector_db\",\n",
        "    embedding_function=embedding_function\n",
        ").as_retriever()\n",
        "\n",
        "# Initialising a language model for generating answers\n",
        "llm = ChatOpenAI(model=\"gpt-3.5-turbo\", temperature=0)\n",
        "\n",
        "# Connect the LLM and retriever to build the QA pipeline\n",
        "rag_chain = RetrievalQA.from_chain_type(\n",
        "    llm=llm,\n",
        "    retriever=retriever,\n",
        "    return_source_documents=True\n",
        ")\n",
        "\n",
        "print(\"RAG chain created successfully.\")  # Just a simple check"
      ]
    },
    {
      "cell_type": "markdown",
      "id": "6PkgzeTIElfy",
      "metadata": {
        "id": "6PkgzeTIElfy"
      },
      "source": [
        "#### **2.2.2** <font color=red> [3 marks] </font>\n",
        "Create a function to generate answer for asked questions."
      ]
    },
    {
      "cell_type": "markdown",
      "id": "W8AMtr94FZxR",
      "metadata": {
        "id": "W8AMtr94FZxR"
      },
      "source": [
        "Use the RAG chain to generate answer for a question and provide source documents"
      ]
    },
    {
      "cell_type": "code",
      "execution_count": 17,
      "id": "b9TQdz5uFzlr",
      "metadata": {
        "colab": {
          "base_uri": "https://localhost:8080/",
          "height": 0
        },
        "id": "b9TQdz5uFzlr",
        "outputId": "70897e97-1ac5-4842-e8de-6237f81f4c53"
      },
      "outputs": [
        {
          "name": "stdout",
          "output_type": "stream",
          "text": [
            "RAG QA chain is ready.\n"
          ]
        }
      ],
      "source": [
        "# Create a function for question answering\n",
        "from langchain.chains import RetrievalQA\n",
        "from langchain_openai import ChatOpenAI\n",
        "\n",
        "# Creating retriever from existing vectorstore\n",
        "retriever = vectorstore.as_retriever(search_type=\"similarity\", search_kwargs={\"k\": 3})\n",
        "\n",
        "# Setting up the QA chain using ChatOpenAI\n",
        "rag_chain = RetrievalQA.from_chain_type(\n",
        "    llm=ChatOpenAI(model=\"gpt-3.5-turbo\"),\n",
        "    chain_type=\"stuff\",\n",
        "    retriever=retriever,\n",
        "    return_source_documents=True\n",
        ")\n",
        "\n",
        "print(\"RAG QA chain is ready.\")"
      ]
    },
    {
      "cell_type": "code",
      "execution_count": 18,
      "id": "_OvSKhCwSbji",
      "metadata": {
        "id": "_OvSKhCwSbji"
      },
      "outputs": [],
      "source": [
        "# Simple function to answer a question using the RAG pipeline\n",
        "def answer_question(question):\n",
        "    result = rag_chain.invoke({\"query\": question})\n",
        "    print(\"Answer:\\n\", result[\"result\"]) # Print the generated answer\n",
        "    print(\"\\nSource documents:\\n\")\n",
        "    for doc in result[\"source_documents\"]:\n",
        "        print(f\"{doc.metadata['source']} (folder: {doc.metadata['folder']})\")\n",
        "        print(f\"Content preview: {doc.page_content[:300]}...\\n\")"
      ]
    },
    {
      "cell_type": "code",
      "execution_count": 19,
      "id": "pSgcP19iYgjv",
      "metadata": {
        "colab": {
          "base_uri": "https://localhost:8080/",
          "height": 0
        },
        "id": "pSgcP19iYgjv",
        "outputId": "69ebe811-a887-47a4-bf62-af00513c6060"
      },
      "outputs": [
        {
          "name": "stdout",
          "output_type": "stream",
          "text": [
            "Answer:\n",
            " Yes, the document indicates that the Receiving Party does not have any right, license, title, or interest in or to any confidential information, except for the limited right to review, assess, and help develop the confidential information in connection with the Copernicus Accelerator 2017.\n",
            "\n",
            "Source documents:\n",
            "\n",
            "thoughtbot-mutual-nda.txt (folder: contractnli)\n",
            "Content preview: in the agreement and the party receiving the confidential information shall be referred to as receiving party in the agreement 3 nonuse and nondisclosure the receiving party agrees not to use any confidential information for any purpose except to evaluate and engage in discussions concerning a poten...\n",
            "\n",
            "CopAcc_NDA-and-ToP-Mentors_2.0_2017.txt (folder: contractnli)\n",
            "Content preview: to commit to a nondisclosure agreement that protects the confidential information to at least the same degree as this agreement mentor shall take all reasonable measures to protect the secrecy of and avoid any unauthorised disclosure or use of confidential information such measures shall include the...\n",
            "\n",
            "CopAcc_NDA-and-ToP-Mentors_2.0_2017.txt (folder: contractnli)\n",
            "Content preview: to comply with such order 8 proprietary rights limited right to use any and all proprietary rights including but not limited to rights to and in inventions patent rights utility models copyrights trademarks and trade secrets in and to any confidential information shall be and remain with the partici...\n",
            "\n"
          ]
        }
      ],
      "source": [
        "# Example question\n",
        "# question =\"Consider the Non-Disclosure Agreement between CopAcc and ToP Mentors; Does the document indicate that the Agreement does not grant the Receiving Party any rights to the Confidential Information?\"\n",
        "\n",
        "question = \"Consider the Non-Disclosure Agreement between CopAcc and ToP Mentors; Does the document indicate that the Agreement does not grant the Receiving Party any rights to the Confidential Information?\"\n",
        "\n",
        "answer_question(question)"
      ]
    },
    {
      "cell_type": "markdown",
      "id": "fMmX8OrcN05D",
      "metadata": {
        "id": "fMmX8OrcN05D"
      },
      "source": [
        "## **3. RAG Evaluation** <font color=red> [10 marks] </font><br>"
      ]
    },
    {
      "cell_type": "markdown",
      "id": "b1ddfed9",
      "metadata": {
        "id": "b1ddfed9"
      },
      "source": [
        "### **3.1 Evaluation and Inference** <font color=red> [10 marks] </font><br>"
      ]
    },
    {
      "cell_type": "markdown",
      "id": "Z9xy_GduS9Yk",
      "metadata": {
        "id": "Z9xy_GduS9Yk"
      },
      "source": [
        "#### **3.1.1** <font color=red> [2 marks] </font>\n",
        "Extract all the questions and all the answers/ground truths from the benchmark files."
      ]
    },
    {
      "cell_type": "markdown",
      "id": "V397RqkRfjSP",
      "metadata": {
        "id": "V397RqkRfjSP"
      },
      "source": [
        "Create a questions set and an answers set containing all the questions and answers from the benchmark files to run evaluations."
      ]
    },
    {
      "cell_type": "code",
      "execution_count": 20,
      "id": "bF_KZXb1c-G5",
      "metadata": {
        "colab": {
          "base_uri": "https://localhost:8080/",
          "height": 177
        },
        "id": "bF_KZXb1c-G5",
        "outputId": "f8ff9695-a897-42cd-f630-1376fd58b305"
      },
      "outputs": [
        {
          "data": {
            "text/html": [
              "\n",
              "     <input type=\"file\" id=\"files-98b5f79e-1041-4c3f-b38f-88ac514c1223\" name=\"files[]\" multiple disabled\n",
              "        style=\"border:none\" />\n",
              "     <output id=\"result-98b5f79e-1041-4c3f-b38f-88ac514c1223\">\n",
              "      Upload widget is only available when the cell has been executed in the\n",
              "      current browser session. Please rerun this cell to enable.\n",
              "      </output>\n",
              "      <script>// Copyright 2017 Google LLC\n",
              "//\n",
              "// Licensed under the Apache License, Version 2.0 (the \"License\");\n",
              "// you may not use this file except in compliance with the License.\n",
              "// You may obtain a copy of the License at\n",
              "//\n",
              "//      http://www.apache.org/licenses/LICENSE-2.0\n",
              "//\n",
              "// Unless required by applicable law or agreed to in writing, software\n",
              "// distributed under the License is distributed on an \"AS IS\" BASIS,\n",
              "// WITHOUT WARRANTIES OR CONDITIONS OF ANY KIND, either express or implied.\n",
              "// See the License for the specific language governing permissions and\n",
              "// limitations under the License.\n",
              "\n",
              "/**\n",
              " * @fileoverview Helpers for google.colab Python module.\n",
              " */\n",
              "(function(scope) {\n",
              "function span(text, styleAttributes = {}) {\n",
              "  const element = document.createElement('span');\n",
              "  element.textContent = text;\n",
              "  for (const key of Object.keys(styleAttributes)) {\n",
              "    element.style[key] = styleAttributes[key];\n",
              "  }\n",
              "  return element;\n",
              "}\n",
              "\n",
              "// Max number of bytes which will be uploaded at a time.\n",
              "const MAX_PAYLOAD_SIZE = 100 * 1024;\n",
              "\n",
              "function _uploadFiles(inputId, outputId) {\n",
              "  const steps = uploadFilesStep(inputId, outputId);\n",
              "  const outputElement = document.getElementById(outputId);\n",
              "  // Cache steps on the outputElement to make it available for the next call\n",
              "  // to uploadFilesContinue from Python.\n",
              "  outputElement.steps = steps;\n",
              "\n",
              "  return _uploadFilesContinue(outputId);\n",
              "}\n",
              "\n",
              "// This is roughly an async generator (not supported in the browser yet),\n",
              "// where there are multiple asynchronous steps and the Python side is going\n",
              "// to poll for completion of each step.\n",
              "// This uses a Promise to block the python side on completion of each step,\n",
              "// then passes the result of the previous step as the input to the next step.\n",
              "function _uploadFilesContinue(outputId) {\n",
              "  const outputElement = document.getElementById(outputId);\n",
              "  const steps = outputElement.steps;\n",
              "\n",
              "  const next = steps.next(outputElement.lastPromiseValue);\n",
              "  return Promise.resolve(next.value.promise).then((value) => {\n",
              "    // Cache the last promise value to make it available to the next\n",
              "    // step of the generator.\n",
              "    outputElement.lastPromiseValue = value;\n",
              "    return next.value.response;\n",
              "  });\n",
              "}\n",
              "\n",
              "/**\n",
              " * Generator function which is called between each async step of the upload\n",
              " * process.\n",
              " * @param {string} inputId Element ID of the input file picker element.\n",
              " * @param {string} outputId Element ID of the output display.\n",
              " * @return {!Iterable<!Object>} Iterable of next steps.\n",
              " */\n",
              "function* uploadFilesStep(inputId, outputId) {\n",
              "  const inputElement = document.getElementById(inputId);\n",
              "  inputElement.disabled = false;\n",
              "\n",
              "  const outputElement = document.getElementById(outputId);\n",
              "  outputElement.innerHTML = '';\n",
              "\n",
              "  const pickedPromise = new Promise((resolve) => {\n",
              "    inputElement.addEventListener('change', (e) => {\n",
              "      resolve(e.target.files);\n",
              "    });\n",
              "  });\n",
              "\n",
              "  const cancel = document.createElement('button');\n",
              "  inputElement.parentElement.appendChild(cancel);\n",
              "  cancel.textContent = 'Cancel upload';\n",
              "  const cancelPromise = new Promise((resolve) => {\n",
              "    cancel.onclick = () => {\n",
              "      resolve(null);\n",
              "    };\n",
              "  });\n",
              "\n",
              "  // Wait for the user to pick the files.\n",
              "  const files = yield {\n",
              "    promise: Promise.race([pickedPromise, cancelPromise]),\n",
              "    response: {\n",
              "      action: 'starting',\n",
              "    }\n",
              "  };\n",
              "\n",
              "  cancel.remove();\n",
              "\n",
              "  // Disable the input element since further picks are not allowed.\n",
              "  inputElement.disabled = true;\n",
              "\n",
              "  if (!files) {\n",
              "    return {\n",
              "      response: {\n",
              "        action: 'complete',\n",
              "      }\n",
              "    };\n",
              "  }\n",
              "\n",
              "  for (const file of files) {\n",
              "    const li = document.createElement('li');\n",
              "    li.append(span(file.name, {fontWeight: 'bold'}));\n",
              "    li.append(span(\n",
              "        `(${file.type || 'n/a'}) - ${file.size} bytes, ` +\n",
              "        `last modified: ${\n",
              "            file.lastModifiedDate ? file.lastModifiedDate.toLocaleDateString() :\n",
              "                                    'n/a'} - `));\n",
              "    const percent = span('0% done');\n",
              "    li.appendChild(percent);\n",
              "\n",
              "    outputElement.appendChild(li);\n",
              "\n",
              "    const fileDataPromise = new Promise((resolve) => {\n",
              "      const reader = new FileReader();\n",
              "      reader.onload = (e) => {\n",
              "        resolve(e.target.result);\n",
              "      };\n",
              "      reader.readAsArrayBuffer(file);\n",
              "    });\n",
              "    // Wait for the data to be ready.\n",
              "    let fileData = yield {\n",
              "      promise: fileDataPromise,\n",
              "      response: {\n",
              "        action: 'continue',\n",
              "      }\n",
              "    };\n",
              "\n",
              "    // Use a chunked sending to avoid message size limits. See b/62115660.\n",
              "    let position = 0;\n",
              "    do {\n",
              "      const length = Math.min(fileData.byteLength - position, MAX_PAYLOAD_SIZE);\n",
              "      const chunk = new Uint8Array(fileData, position, length);\n",
              "      position += length;\n",
              "\n",
              "      const base64 = btoa(String.fromCharCode.apply(null, chunk));\n",
              "      yield {\n",
              "        response: {\n",
              "          action: 'append',\n",
              "          file: file.name,\n",
              "          data: base64,\n",
              "        },\n",
              "      };\n",
              "\n",
              "      let percentDone = fileData.byteLength === 0 ?\n",
              "          100 :\n",
              "          Math.round((position / fileData.byteLength) * 100);\n",
              "      percent.textContent = `${percentDone}% done`;\n",
              "\n",
              "    } while (position < fileData.byteLength);\n",
              "  }\n",
              "\n",
              "  // All done.\n",
              "  yield {\n",
              "    response: {\n",
              "      action: 'complete',\n",
              "    }\n",
              "  };\n",
              "}\n",
              "\n",
              "scope.google = scope.google || {};\n",
              "scope.google.colab = scope.google.colab || {};\n",
              "scope.google.colab._files = {\n",
              "  _uploadFiles,\n",
              "  _uploadFilesContinue,\n",
              "};\n",
              "})(self);\n",
              "</script> "
            ],
            "text/plain": [
              "<IPython.core.display.HTML object>"
            ]
          },
          "metadata": {},
          "output_type": "display_data"
        },
        {
          "name": "stdout",
          "output_type": "stream",
          "text": [
            "Saving privacy_qa.json to privacy_qa.json\n",
            "Saving maud.json to maud.json\n",
            "Saving cuad.json to cuad.json\n",
            "Saving contractnli.json to contractnli.json\n"
          ]
        }
      ],
      "source": [
        "# Upload the benchmark JSON files manually\n",
        "from google.colab import files\n",
        "uploaded = files.upload()"
      ]
    },
    {
      "cell_type": "code",
      "execution_count": 21,
      "id": "vl2OR-G3UfkF",
      "metadata": {
        "colab": {
          "base_uri": "https://localhost:8080/",
          "height": 0
        },
        "id": "vl2OR-G3UfkF",
        "outputId": "35774559-7e3f-4565-e271-db0a27a5f110"
      },
      "outputs": [
        {
          "name": "stdout",
          "output_type": "stream",
          "text": [
            "First line of contractnli.json:\n",
            " {\n",
            " \n",
            "\n",
            "First line of cuad.json:\n",
            " {\n",
            " \n",
            "\n",
            "First line of maud.json:\n",
            " {\n",
            " \n",
            "\n",
            "First line of privacy_qa.json:\n",
            " {\n",
            " \n",
            "\n"
          ]
        }
      ],
      "source": [
        "# Create a question set by taking all the questions from the benchmark data\n",
        "# Also create a ground truth/answer set\n",
        "import json\n",
        "\n",
        "benchmark_files = [\n",
        "    \"contractnli.json\",\n",
        "    \"cuad.json\",\n",
        "    \"maud.json\",\n",
        "    \"privacy_qa.json\"\n",
        "]\n",
        "\n",
        "for file in benchmark_files:\n",
        "    with open(file, 'r') as f:\n",
        "        first_line = f.readline()\n",
        "        print(f\"First line of {file}:\\n\", first_line[:300], \"\\n\")"
      ]
    },
    {
      "cell_type": "code",
      "execution_count": 22,
      "id": "txnRgFinVC8A",
      "metadata": {
        "colab": {
          "base_uri": "https://localhost:8080/",
          "height": 0
        },
        "id": "txnRgFinVC8A",
        "outputId": "0d544502-c2bd-4f90-a9bd-d46a6a1e17a2"
      },
      "outputs": [
        {
          "name": "stdout",
          "output_type": "stream",
          "text": [
            "Total questions loaded: 6889\n",
            "Sample question: Consider the Marketing Affiliate Agreement between Birch First Global Investments Inc. and Mount Knowledge Holdings Inc.; What is the expiration date of this contract?\n",
            "Sample ground truth: This agreement shall begin upon the date of its execution by MA and acceptance in writing by Company and shall remain in effect until the end of the current calendar year and shall be automatically renewed for successive one (1) year periods unless otherwise terminated according to the cancellation or termination provisions contained in paragraph 18 of this Agreement.\n"
          ]
        }
      ],
      "source": [
        "import os\n",
        "import json\n",
        "\n",
        "# Set the path to where the benchmark JSON files are stored\n",
        "benchmark_path = os.path.join(extract_path, \"rag_legal\", \"benchmarks\")\n",
        "\n",
        "# Collect all JSON files from the folder\n",
        "benchmark_files = [f for f in os.listdir(benchmark_path) if f.endswith('.json')]\n",
        "\n",
        "# Lists to store questions and answers\n",
        "question_set = []\n",
        "answer_set = []\n",
        "\n",
        "# Loop through each benchmark file and extract Q&A pairs\n",
        "for file in benchmark_files:\n",
        "    file_path = os.path.join(benchmark_path, file)\n",
        "    with open(file_path, \"r\") as f:\n",
        "        data = json.load(f)\n",
        "        tests = data.get(\"tests\", [])\n",
        "        for item in tests:\n",
        "            question = item.get(\"query\", \"\")\n",
        "            snippets = item.get(\"snippets\", [])\n",
        "\n",
        "            # Collect answers from all snippets and join them if needed\n",
        "            answers = [snippet.get(\"answer\", \"\") for snippet in snippets if \"answer\" in snippet]\n",
        "            full_answer = \" \".join(answers).strip()\n",
        "\n",
        "            if question and full_answer:\n",
        "                question_set.append(question)\n",
        "                answer_set.append(full_answer)\n",
        "\n",
        "# Print a few samples to check\n",
        "print(\"Total questions loaded:\", len(question_set))\n",
        "print(\"Sample question:\", question_set[0])\n",
        "print(\"Sample ground truth:\", answer_set[0])"
      ]
    },
    {
      "cell_type": "markdown",
      "id": "81VscxuGTHhC",
      "metadata": {
        "id": "81VscxuGTHhC"
      },
      "source": [
        "#### **3.1.2** <font color=red> [5 marks] </font>\n",
        "Create a function to evaluate the generated answers."
      ]
    },
    {
      "cell_type": "markdown",
      "id": "qIPUg1dKTPGb",
      "metadata": {
        "id": "qIPUg1dKTPGb"
      },
      "source": [
        "Evaluate the responses on *Rouge*, *Ragas* and *Bleu* scores."
      ]
    },
    {
      "cell_type": "code",
      "execution_count": 23,
      "id": "zj52IPFNWlS2",
      "metadata": {
        "colab": {
          "base_uri": "https://localhost:8080/",
          "height": 0
        },
        "id": "zj52IPFNWlS2",
        "outputId": "21d33c45-1cbe-4b91-df98-7785b1f33c65"
      },
      "outputs": [
        {
          "name": "stdout",
          "output_type": "stream",
          "text": [
            "\u001b[?25l   \u001b[90m━━━━━━━━━━━━━━━━━━━━━━━━━━━━━━━━━━━━━━━━\u001b[0m \u001b[32m0.0/84.0 kB\u001b[0m \u001b[31m?\u001b[0m eta \u001b[36m-:--:--\u001b[0m\r\u001b[2K   \u001b[91m━━━━━━━━━━━━━━━━━━━━━━━━━━━━━━━━━━━━━━━\u001b[0m\u001b[90m╺\u001b[0m \u001b[32m81.9/84.0 kB\u001b[0m \u001b[31m3.4 MB/s\u001b[0m eta \u001b[36m0:00:01\u001b[0m\r\u001b[2K   \u001b[90m━━━━━━━━━━━━━━━━━━━━━━━━━━━━━━━━━━━━━━━━\u001b[0m \u001b[32m84.0/84.0 kB\u001b[0m \u001b[31m2.1 MB/s\u001b[0m eta \u001b[36m0:00:00\u001b[0m\n",
            "\u001b[?25h"
          ]
        }
      ],
      "source": [
        "!pip install evaluate rouge-score ragas --quiet"
      ]
    },
    {
      "cell_type": "code",
      "execution_count": 24,
      "id": "RuoBJS5_PKmX",
      "metadata": {
        "colab": {
          "base_uri": "https://localhost:8080/",
          "height": 269,
          "referenced_widgets": [
            "2ddee23f88624aaaa225e6134e976a14",
            "16a4831a9f3b40de9bce9a16cf3fd1b7",
            "b413bea9ed9e41fd84c0a62780e01728",
            "4052787d406149f09fb1878d7164c3f7",
            "4b8739c76a214a62987c9f22d4c70632",
            "8891e08854874676b9a75e21601f91ae",
            "efdbf5c706754a0a92577275596fb1a2",
            "a61b1ebd3d3243a29679fbec79dbf580",
            "52f35e19233740618f2af87399f25488",
            "0aac35398cb74a3297172d1681f02f3c",
            "dfa68356dc624ec1af10990e62d4617a",
            "c32fcf5ae0e14498a67720f090f11735",
            "3557e675a3544f9fb52c0992b76775ca",
            "990da42ccf3f47ce85c52d812edc104f",
            "cd6b82fce4f6412286ad252755e03d0c",
            "0afbd24ad3ac4729b77732c0bc012e98",
            "a8244be351a44622b2a2b4c55bea4895",
            "8d526848993547798b5490c3c58ea9b2",
            "7c8b3cc953814879863e2173c6c2fcf5",
            "a86865a0ef124053bd78639ee3227a43",
            "b134d337d9164dfd9407f93a48119265",
            "fdcaefe3724b4123b167df9fc1d0186c",
            "dd30fd595785414c8d8d6e9094e2f363",
            "aef9b596c7a44de3a5fef39fe3576b46",
            "92e1fa80eb2940a6a13db57025a56cef",
            "0149807d164b41449767e6fc8edd00b4",
            "5afd12ffe17e4b0d98840068585d02b3",
            "154a8df2236b403cb7cc0e580dd56b9e",
            "f2ffdedeb2f94533acbebba47b2d700d",
            "a1b107a0441d44028d9599a9ebf2ec43",
            "3c7123af2c4b4a0a8201180e73ea1743",
            "d69c1f4ee0b84170b0bf938962eb1338",
            "e526a7c0775f4371ae9717cdc965f83a",
            "b71ead46c50646b683af5f765402919d",
            "5fcdb708d96d4e65998a51a2b2c20565",
            "7e919cfda648476eb96d7da8a225dad6",
            "e9c9b5b721c044b1a98eec172f2c45f0",
            "ec1b0bbf3f284e468d38ed1470a58ac6",
            "0d57e4a39f124fd79c5c050757caf124",
            "ebfa9887ae0244e5bb831edb63081267",
            "214e526e1b464b949a9eea35975a85a1",
            "df7a21da09e24ce8bdd6fbc3d5a75fee",
            "2d2421ddf1c94f7f8d1bce5fc8e219c9",
            "2d5c0ecde1764611828b6e809a3bc48e"
          ]
        },
        "id": "RuoBJS5_PKmX",
        "outputId": "260e389b-1543-4bff-afed-83a52a4da0b8"
      },
      "outputs": [
        {
          "name": "stderr",
          "output_type": "stream",
          "text": [
            "/usr/local/lib/python3.11/dist-packages/huggingface_hub/utils/_auth.py:94: UserWarning: \n",
            "The secret `HF_TOKEN` does not exist in your Colab secrets.\n",
            "To authenticate with the Hugging Face Hub, create a token in your settings tab (https://huggingface.co/settings/tokens), set it as secret in your Google Colab and restart your session.\n",
            "You will be able to reuse this secret in all of your notebooks.\n",
            "Please note that authentication is recommended but still optional to access public models or datasets.\n",
            "  warnings.warn(\n"
          ]
        },
        {
          "data": {
            "application/vnd.jupyter.widget-view+json": {
              "model_id": "2ddee23f88624aaaa225e6134e976a14",
              "version_major": 2,
              "version_minor": 0
            },
            "text/plain": [
              "Downloading builder script:   0%|          | 0.00/6.27k [00:00<?, ?B/s]"
            ]
          },
          "metadata": {},
          "output_type": "display_data"
        },
        {
          "data": {
            "application/vnd.jupyter.widget-view+json": {
              "model_id": "c32fcf5ae0e14498a67720f090f11735",
              "version_major": 2,
              "version_minor": 0
            },
            "text/plain": [
              "Downloading builder script:   0%|          | 0.00/5.94k [00:00<?, ?B/s]"
            ]
          },
          "metadata": {},
          "output_type": "display_data"
        },
        {
          "data": {
            "application/vnd.jupyter.widget-view+json": {
              "model_id": "dd30fd595785414c8d8d6e9094e2f363",
              "version_major": 2,
              "version_minor": 0
            },
            "text/plain": [
              "Downloading extra modules:   0%|          | 0.00/1.55k [00:00<?, ?B/s]"
            ]
          },
          "metadata": {},
          "output_type": "display_data"
        },
        {
          "data": {
            "application/vnd.jupyter.widget-view+json": {
              "model_id": "b71ead46c50646b683af5f765402919d",
              "version_major": 2,
              "version_minor": 0
            },
            "text/plain": [
              "Downloading extra modules:   0%|          | 0.00/3.34k [00:00<?, ?B/s]"
            ]
          },
          "metadata": {},
          "output_type": "display_data"
        }
      ],
      "source": [
        "# Function to evaluate the RAG pipeline\n",
        "\n",
        "from evaluate import load\n",
        "\n",
        "# Load the evaluation metrics\n",
        "rouge = load(\"rouge\")\n",
        "bleu = load(\"bleu\")\n",
        "\n",
        "# Function to evaluate model predictions using ROUGE-L and BLEU\n",
        "def evaluate_rag_pipeline(predictions, references, sample_size=100):\n",
        "    print(f\"Evaluating the first {sample_size} samples...\")\n",
        "\n",
        "    # Only take the number of samples specified\n",
        "    predictions = predictions[:sample_size]\n",
        "    references = references[:sample_size]\n",
        "\n",
        "    # Compute ROUGE-L score\n",
        "    rouge_result = rouge.compute(predictions=predictions, references=references)\n",
        "\n",
        "    # Compute BLEU score\n",
        "    bleu_result = bleu.compute(predictions=predictions, references=[[ref] for ref in references])\n",
        "\n",
        "    # Display results\n",
        "    print(\"\\nEvaluation Results:\")\n",
        "    print(\"ROUGE-L:\", round(rouge_result['rougeL'], 4))\n",
        "    print(\"BLEU:\", round(bleu_result['bleu'], 4))\n",
        "\n",
        "    return {\n",
        "        \"rougeL\": rouge_result['rougeL'],\n",
        "        \"bleu\": bleu_result['bleu']\n",
        "    }"
      ]
    },
    {
      "cell_type": "markdown",
      "id": "Omeb5vFSTbS0",
      "metadata": {
        "id": "Omeb5vFSTbS0"
      },
      "source": [
        "#### **3.1.3** <font color=red> [3 marks] </font>\n",
        "Draw inferences by evaluating answers to all questions."
      ]
    },
    {
      "cell_type": "markdown",
      "id": "ei2qIN71Tirg",
      "metadata": {
        "id": "ei2qIN71Tirg"
      },
      "source": [
        "To save time and computing power, you can just run the evaluation on first 100 questions."
      ]
    },
    {
      "cell_type": "code",
      "execution_count": 25,
      "id": "8dD382ovjzkJ",
      "metadata": {
        "id": "8dD382ovjzkJ"
      },
      "outputs": [],
      "source": [
        "!pip install -U ragas --quiet"
      ]
    },
    {
      "cell_type": "code",
      "execution_count": 26,
      "id": "f4f1f24a",
      "metadata": {
        "colab": {
          "base_uri": "https://localhost:8080/",
          "height": 240,
          "referenced_widgets": [
            "1e38479341714326885ba7bac1edd8a8",
            "2c5479dd7b49401bbf772670154c0626",
            "0728fd413ba747b68fe0f7f63ca3bb53",
            "3860561b08ea431686a3592afb80e6f0",
            "800c660ae46e4909aadd6d123b6b30c9",
            "f936c884edf242a68b5977391e953c31",
            "0196d9eb04ae4ced89b53a509b84da15",
            "30b6272765974eb0bf08eb1875fe979e",
            "d8c13f2a1dbd456386504e5c3e396289",
            "0c764ae8016048cd8caaf1e7d381324e",
            "53c80f8fe29e41efad9d041c729a3b09"
          ]
        },
        "id": "f4f1f24a",
        "outputId": "96569533-dcad-4870-9ff9-7a512437df7b"
      },
      "outputs": [
        {
          "name": "stdout",
          "output_type": "stream",
          "text": [
            "Evaluating the first 100 samples...\n",
            "\n"
          ]
        },
        {
          "data": {
            "application/vnd.jupyter.widget-view+json": {
              "model_id": "1e38479341714326885ba7bac1edd8a8",
              "version_major": 2,
              "version_minor": 0
            },
            "text/plain": [
              "Evaluating:   0%|          | 0/300 [00:00<?, ?it/s]"
            ]
          },
          "metadata": {},
          "output_type": "display_data"
        },
        {
          "name": "stdout",
          "output_type": "stream",
          "text": [
            "\n",
            "Evaluation Results (First 100 Questions):\n",
            "ROUGE-L: 0.1672\n",
            "BLEU: 0.0260\n",
            "\n",
            "RAGAS Evaluation Metrics:\n",
            "Faithfulness: 0.7801\n",
            "Answer Relevancy: 0.4489\n",
            "Context Precision: 0.9100\n"
          ]
        }
      ],
      "source": [
        "# Evaluate the RAG pipeline\n",
        "\n",
        "from evaluate import load as load_metric\n",
        "from ragas.metrics import answer_relevancy, faithfulness, context_precision\n",
        "from ragas import evaluate as ragas_evaluate\n",
        "from datasets import Dataset\n",
        "import numpy as np\n",
        "\n",
        "# loading rouge and bleu for initial eval\n",
        "rouge = load_metric(\"rouge\")\n",
        "bleu = load_metric(\"bleu\")\n",
        "\n",
        "print(\"Evaluating the first 100 samples...\\n\")\n",
        "\n",
        "predicted_answers = []\n",
        "ground_truth_answers = []\n",
        "questions_used = []\n",
        "contexts_used = []\n",
        "\n",
        "sample_size = 100\n",
        "\n",
        "for i in range(sample_size):\n",
        "    question = question_set[i]\n",
        "    true_answer = answer_set[i]\n",
        "\n",
        "    try:\n",
        "        result = rag_chain.invoke({\"query\": question})\n",
        "        predicted_answer = result.get(\"result\", \"\").strip()\n",
        "        source_docs = result.get(\"source_documents\", [])\n",
        "\n",
        "        context = \" \".join([doc.page_content for doc in source_docs])\n",
        "\n",
        "        if predicted_answer:\n",
        "            predicted_answers.append(predicted_answer)\n",
        "            ground_truth_answers.append(true_answer)\n",
        "            questions_used.append(question)\n",
        "            contexts_used.append(context)\n",
        "        else:\n",
        "            print(f\"Skipping empty prediction for question {i+1}\")\n",
        "    except Exception as e:\n",
        "        print(f\"Error on question {i+1}: {e}\")\n",
        "\n",
        "# checking if we got anything back\n",
        "if len(predicted_answers) == 0:\n",
        "    print(\"No valid predictions available to evaluate.\")\n",
        "else:\n",
        "    # calculate traditional metrics\n",
        "    rouge_score = rouge.compute(predictions=predicted_answers, references=ground_truth_answers)[\"rougeL\"]\n",
        "    bleu_score = bleu.compute(predictions=predicted_answers, references=[[ref] for ref in ground_truth_answers])[\"bleu\"]\n",
        "\n",
        "    # creating dataset for ragas eval\n",
        "    ragas_data = Dataset.from_dict({\n",
        "        \"question\": questions_used,\n",
        "        \"answer\": predicted_answers,\n",
        "        \"contexts\": [[ctx] for ctx in contexts_used],\n",
        "        \"reference\": ground_truth_answers\n",
        "    })\n",
        "\n",
        "    # Evaluat with RAGAS\n",
        "    ragas_scores = ragas_evaluate(\n",
        "        ragas_data,\n",
        "        metrics=[faithfulness, answer_relevancy, context_precision]\n",
        "    )\n",
        "\n",
        "    # Display results\n",
        "    print(\"\\nEvaluation Results (First 100 Questions):\")\n",
        "    print(f\"ROUGE-L: {rouge_score:.4f}\")\n",
        "    print(f\"BLEU: {bleu_score:.4f}\")\n",
        "\n",
        "    print(\"\\nRAGAS Evaluation Metrics:\")\n",
        "    print(f\"Faithfulness: {np.mean(ragas_scores['faithfulness']):.4f}\")\n",
        "    print(f\"Answer Relevancy: {np.mean(ragas_scores['answer_relevancy']):.4f}\")\n",
        "    print(f\"Context Precision: {np.mean(ragas_scores['context_precision']):.4f}\")"
      ]
    },
    {
      "cell_type": "code",
      "execution_count": 27,
      "id": "4EP5q8qbzxPz",
      "metadata": {
        "colab": {
          "base_uri": "https://localhost:8080/",
          "height": 607
        },
        "id": "4EP5q8qbzxPz",
        "outputId": "b28b32b9-8002-499c-8d09-b2d6f28c73ce"
      },
      "outputs": [
        {
          "data": {
            "image/png": "[encoded data removed]",
            "text/plain": [
              "<Figure size 1000x600 with 1 Axes>"
            ]
          },
          "metadata": {},
          "output_type": "display_data"
        }
      ],
      "source": [
        "import matplotlib.pyplot as plt\n",
        "\n",
        "# Scores from RAG evaluation\n",
        "metrics = {\n",
        "    \"ROUGE-L\": 0.1508,\n",
        "    \"BLEU\": 0.0194,\n",
        "    \"Faithfulness\": 0.7442,\n",
        "    \"Answer Relevancy\": 0.3274,\n",
        "    \"Context Precision\": 0.8900\n",
        "}\n",
        "\n",
        "# Order metrics for better storytelling\n",
        "ordered_labels = [\"Context Precision\", \"Faithfulness\", \"Answer Relevancy\", \"ROUGE-L\", \"BLEU\"]\n",
        "ordered_scores = [metrics[label] for label in ordered_labels]\n",
        "colors = [\"#6a9c89\", \"#ffcb05\", \"#ffa500\", \"#3e79b9\", \"#5f9ea0\"]\n",
        "\n",
        "# Plot\n",
        "plt.figure(figsize=(10, 6))\n",
        "bars = plt.barh(ordered_labels, ordered_scores, color=colors, edgecolor=\"black\")\n",
        "\n",
        "# Add value labels on bars\n",
        "for bar in bars:\n",
        "    score = bar.get_width()\n",
        "    plt.text(score + 0.015, bar.get_y() + bar.get_height()/2,\n",
        "             f\"{score:.2f}\", va='center', ha='left', fontsize=10, fontweight='bold')\n",
        "\n",
        "\n",
        "plt.title(\"RAG Pipeline Evaluation (Top 100 Questions)\", fontsize=14, fontweight=\"bold\", pad=15)\n",
        "plt.xlabel(\"Score\", fontsize=12)\n",
        "plt.xlim(0, 1.05)\n",
        "plt.xticks([i/10 for i in range(11)])\n",
        "plt.grid(axis='x', linestyle='--', alpha=0.4)\n",
        "plt.tight_layout()\n",
        "plt.show()"
      ]
    },
    {
      "cell_type": "markdown",
      "id": "PZ0G21sm0ktk",
      "metadata": {
        "id": "PZ0G21sm0ktk"
      },
      "source": [
        "**Interpretation of Metrics**\n",
        "* **Context Precision (0.89):** Your pipeline retrieved very relevant supporting documents for most questions. This high score reflects excellent document grounding.\n",
        "\n",
        "* **Faithfulness (0.74):** The answers are generally aligned with the retrieved content. This indicates that hallucination is relatively low.\n",
        "\n",
        "* **Answer Relevancy (0.33):** There's room for improvement in how directly answers address the actual question. This could be due to either vague language generation or insufficient context overlap.\n",
        "\n",
        "* **ROUGE-L (0.15) & BLEU (0.02):** These traditional text overlap metrics are low, which is expected in generation tasks that allow paraphrasing. Still, they suggest a mismatch in lexical similarity compared to ground-truth answers.\n"
      ]
    },
    {
      "cell_type": "markdown",
      "id": "gonMO9wNE5dt",
      "metadata": {
        "id": "gonMO9wNE5dt"
      },
      "source": [
        "## **4. Conclusion** <font color=red> [5 marks] </font><br>"
      ]
    },
    {
      "cell_type": "markdown",
      "id": "ySHPR29rE5du",
      "metadata": {
        "id": "ySHPR29rE5du"
      },
      "source": [
        "### **4.1 Conclusions and insights** <font color=red> [5 marks] </font><br>"
      ]
    },
    {
      "cell_type": "markdown",
      "id": "KoVsmcV0E5du",
      "metadata": {
        "id": "KoVsmcV0E5du"
      },
      "source": [
        "#### **4.1.1** <font color=red> [5 marks] </font>\n",
        "Conclude with the results here. Include the insights gained about the data, model pipeline, the RAG process and the results obtained."
      ]
    },
    {
      "cell_type": "markdown",
      "id": "9HbvxM6oHfTJ",
      "metadata": {
        "id": "9HbvxM6oHfTJ"
      },
      "source": [
        "The project began with the preprocessing of 698 legal documents across four categories—NDAs, M&A agreements, annotated contracts, and privacy policies. The text data showed significant variation in length, with an average of over 15,000 words per document. Frequent terms like company, agreement, and party highlighted the repetitive legal phrasing present across most files.\n",
        "\n",
        "After cleaning and analyzing the documents, we split them into smaller chunks and embedded them using OpenAI’s embedding model. These chunks were stored in a Chroma vector database to support retrieval-based question answering.\n",
        "\n",
        "The RAG (Retrieval-Augmented Generation) pipeline was built using LangChain, combining document retrieval with OpenAI’s GPT model for answer generation. It performed well in terms of document retrieval and factual grounding. The ROUGE-L score was 0.1508 and BLEU was 0.0194, indicating limited surface overlap with ground truth answers. However, RAGAS evaluation gave higher scores in key areas: Faithfulness (0.74), Context Precision (0.89), and a moderate Answer Relevancy (0.32). This shows that the answers were mostly faithful to the retrieved content and well-supported by the right context, but sometimes lacked direct relevance or completeness.\n",
        "\n",
        "In summary, the RAG system was effective at retrieving correct document segments and maintaining factual consistency, though the generative responses can be improved for clarity and relevance."
      ]
    }
  ],
  "metadata": {
    "colab": {
      "provenance": []
    },
    "kernelspec": {
      "display_name": "Python 3 (ipykernel)",
      "language": "python",
      "name": "python3"
    },
    "language_info": {
      "codemirror_mode": {
        "name": "ipython",
        "version": 3
      },
      "file_extension": ".py",
      "mimetype": "text/x-python",
      "name": "python",
      "nbconvert_exporter": "python",
      "pygments_lexer": "ipython3",
      "version": "3.10.9"
    },
    "widgets": {
      "application/vnd.jupyter.widget-state+json": {
        "0149807d164b41449767e6fc8edd00b4": {
          "model_module": "@jupyter-widgets/controls",
          "model_module_version": "1.5.0",
          "model_name": "HTMLModel",
          "state": {
            "_dom_classes": [],
            "_model_module": "@jupyter-widgets/controls",
            "_model_module_version": "1.5.0",
            "_model_name": "HTMLModel",
            "_view_count": null,
            "_view_module": "@jupyter-widgets/controls",
            "_view_module_version": "1.5.0",
            "_view_name": "HTMLView",
            "description": "",
            "description_tooltip": null,
            "layout": "IPY_MODEL_d69c1f4ee0b84170b0bf938962eb1338",
            "placeholder": "​",
            "style": "IPY_MODEL_e526a7c0775f4371ae9717cdc965f83a",
            "value": " 4.07k/? [00:00&lt;00:00, 57.4kB/s]"
          }
        },
        "0196d9eb04ae4ced89b53a509b84da15": {
          "model_module": "@jupyter-widgets/controls",
          "model_module_version": "1.5.0",
          "model_name": "DescriptionStyleModel",
          "state": {
            "_model_module": "@jupyter-widgets/controls",
            "_model_module_version": "1.5.0",
            "_model_name": "DescriptionStyleModel",
            "_view_count": null,
            "_view_module": "@jupyter-widgets/base",
            "_view_module_version": "1.2.0",
            "_view_name": "StyleView",
            "description_width": ""
          }
        },
        "0728fd413ba747b68fe0f7f63ca3bb53": {
          "model_module": "@jupyter-widgets/controls",
          "model_module_version": "1.5.0",
          "model_name": "FloatProgressModel",
          "state": {
            "_dom_classes": [],
            "_model_module": "@jupyter-widgets/controls",
            "_model_module_version": "1.5.0",
            "_model_name": "FloatProgressModel",
            "_view_count": null,
            "_view_module": "@jupyter-widgets/controls",
            "_view_module_version": "1.5.0",
            "_view_name": "ProgressView",
            "bar_style": "success",
            "description": "",
            "description_tooltip": null,
            "layout": "IPY_MODEL_30b6272765974eb0bf08eb1875fe979e",
            "max": 300,
            "min": 0,
            "orientation": "horizontal",
            "style": "IPY_MODEL_d8c13f2a1dbd456386504e5c3e396289",
            "value": 300
          }
        },
        "0aac35398cb74a3297172d1681f02f3c": {
          "model_module": "@jupyter-widgets/base",
          "model_module_version": "1.2.0",
          "model_name": "LayoutModel",
          "state": {
            "_model_module": "@jupyter-widgets/base",
            "_model_module_version": "1.2.0",
            "_model_name": "LayoutModel",
            "_view_count": null,
            "_view_module": "@jupyter-widgets/base",
            "_view_module_version": "1.2.0",
            "_view_name": "LayoutView",
            "align_content": null,
            "align_items": null,
            "align_self": null,
            "border": null,
            "bottom": null,
            "display": null,
            "flex": null,
            "flex_flow": null,
            "grid_area": null,
            "grid_auto_columns": null,
            "grid_auto_flow": null,
            "grid_auto_rows": null,
            "grid_column": null,
            "grid_gap": null,
            "grid_row": null,
            "grid_template_areas": null,
            "grid_template_columns": null,
            "grid_template_rows": null,
            "height": null,
            "justify_content": null,
            "justify_items": null,
            "left": null,
            "margin": null,
            "max_height": null,
            "max_width": null,
            "min_height": null,
            "min_width": null,
            "object_fit": null,
            "object_position": null,
            "order": null,
            "overflow": null,
            "overflow_x": null,
            "overflow_y": null,
            "padding": null,
            "right": null,
            "top": null,
            "visibility": null,
            "width": null
          }
        },
        "0afbd24ad3ac4729b77732c0bc012e98": {
          "model_module": "@jupyter-widgets/base",
          "model_module_version": "1.2.0",
          "model_name": "LayoutModel",
          "state": {
            "_model_module": "@jupyter-widgets/base",
            "_model_module_version": "1.2.0",
            "_model_name": "LayoutModel",
            "_view_count": null,
            "_view_module": "@jupyter-widgets/base",
            "_view_module_version": "1.2.0",
            "_view_name": "LayoutView",
            "align_content": null,
            "align_items": null,
            "align_self": null,
            "border": null,
            "bottom": null,
            "display": null,
            "flex": null,
            "flex_flow": null,
            "grid_area": null,
            "grid_auto_columns": null,
            "grid_auto_flow": null,
            "grid_auto_rows": null,
            "grid_column": null,
            "grid_gap": null,
            "grid_row": null,
            "grid_template_areas": null,
            "grid_template_columns": null,
            "grid_template_rows": null,
            "height": null,
            "justify_content": null,
            "justify_items": null,
            "left": null,
            "margin": null,
            "max_height": null,
            "max_width": null,
            "min_height": null,
            "min_width": null,
            "object_fit": null,
            "object_position": null,
            "order": null,
            "overflow": null,
            "overflow_x": null,
            "overflow_y": null,
            "padding": null,
            "right": null,
            "top": null,
            "visibility": null,
            "width": null
          }
        },
        "0c764ae8016048cd8caaf1e7d381324e": {
          "model_module": "@jupyter-widgets/base",
          "model_module_version": "1.2.0",
          "model_name": "LayoutModel",
          "state": {
            "_model_module": "@jupyter-widgets/base",
            "_model_module_version": "1.2.0",
            "_model_name": "LayoutModel",
            "_view_count": null,
            "_view_module": "@jupyter-widgets/base",
            "_view_module_version": "1.2.0",
            "_view_name": "LayoutView",
            "align_content": null,
            "align_items": null,
            "align_self": null,
            "border": null,
            "bottom": null,
            "display": null,
            "flex": null,
            "flex_flow": null,
            "grid_area": null,
            "grid_auto_columns": null,
            "grid_auto_flow": null,
            "grid_auto_rows": null,
            "grid_column": null,
            "grid_gap": null,
            "grid_row": null,
            "grid_template_areas": null,
            "grid_template_columns": null,
            "grid_template_rows": null,
            "height": null,
            "justify_content": null,
            "justify_items": null,
            "left": null,
            "margin": null,
            "max_height": null,
            "max_width": null,
            "min_height": null,
            "min_width": null,
            "object_fit": null,
            "object_position": null,
            "order": null,
            "overflow": null,
            "overflow_x": null,
            "overflow_y": null,
            "padding": null,
            "right": null,
            "top": null,
            "visibility": null,
            "width": null
          }
        },
        "0d57e4a39f124fd79c5c050757caf124": {
          "model_module": "@jupyter-widgets/base",
          "model_module_version": "1.2.0",
          "model_name": "LayoutModel",
          "state": {
            "_model_module": "@jupyter-widgets/base",
            "_model_module_version": "1.2.0",
            "_model_name": "LayoutModel",
            "_view_count": null,
            "_view_module": "@jupyter-widgets/base",
            "_view_module_version": "1.2.0",
            "_view_name": "LayoutView",
            "align_content": null,
            "align_items": null,
            "align_self": null,
            "border": null,
            "bottom": null,
            "display": null,
            "flex": null,
            "flex_flow": null,
            "grid_area": null,
            "grid_auto_columns": null,
            "grid_auto_flow": null,
            "grid_auto_rows": null,
            "grid_column": null,
            "grid_gap": null,
            "grid_row": null,
            "grid_template_areas": null,
            "grid_template_columns": null,
            "grid_template_rows": null,
            "height": null,
            "justify_content": null,
            "justify_items": null,
            "left": null,
            "margin": null,
            "max_height": null,
            "max_width": null,
            "min_height": null,
            "min_width": null,
            "object_fit": null,
            "object_position": null,
            "order": null,
            "overflow": null,
            "overflow_x": null,
            "overflow_y": null,
            "padding": null,
            "right": null,
            "top": null,
            "visibility": null,
            "width": null
          }
        },
        "154a8df2236b403cb7cc0e580dd56b9e": {
          "model_module": "@jupyter-widgets/base",
          "model_module_version": "1.2.0",
          "model_name": "LayoutModel",
          "state": {
            "_model_module": "@jupyter-widgets/base",
            "_model_module_version": "1.2.0",
            "_model_name": "LayoutModel",
            "_view_count": null,
            "_view_module": "@jupyter-widgets/base",
            "_view_module_version": "1.2.0",
            "_view_name": "LayoutView",
            "align_content": null,
            "align_items": null,
            "align_self": null,
            "border": null,
            "bottom": null,
            "display": null,
            "flex": null,
            "flex_flow": null,
            "grid_area": null,
            "grid_auto_columns": null,
            "grid_auto_flow": null,
            "grid_auto_rows": null,
            "grid_column": null,
            "grid_gap": null,
            "grid_row": null,
            "grid_template_areas": null,
            "grid_template_columns": null,
            "grid_template_rows": null,
            "height": null,
            "justify_content": null,
            "justify_items": null,
            "left": null,
            "margin": null,
            "max_height": null,
            "max_width": null,
            "min_height": null,
            "min_width": null,
            "object_fit": null,
            "object_position": null,
            "order": null,
            "overflow": null,
            "overflow_x": null,
            "overflow_y": null,
            "padding": null,
            "right": null,
            "top": null,
            "visibility": null,
            "width": null
          }
        },
        "16a4831a9f3b40de9bce9a16cf3fd1b7": {
          "model_module": "@jupyter-widgets/controls",
          "model_module_version": "1.5.0",
          "model_name": "HTMLModel",
          "state": {
            "_dom_classes": [],
            "_model_module": "@jupyter-widgets/controls",
            "_model_module_version": "1.5.0",
            "_model_name": "HTMLModel",
            "_view_count": null,
            "_view_module": "@jupyter-widgets/controls",
            "_view_module_version": "1.5.0",
            "_view_name": "HTMLView",
            "description": "",
            "description_tooltip": null,
            "layout": "IPY_MODEL_8891e08854874676b9a75e21601f91ae",
            "placeholder": "​",
            "style": "IPY_MODEL_efdbf5c706754a0a92577275596fb1a2",
            "value": "Downloading builder script: 100%"
          }
        },
        "1e38479341714326885ba7bac1edd8a8": {
          "model_module": "@jupyter-widgets/controls",
          "model_module_version": "1.5.0",
          "model_name": "HBoxModel",
          "state": {
            "_dom_classes": [],
            "_model_module": "@jupyter-widgets/controls",
            "_model_module_version": "1.5.0",
            "_model_name": "HBoxModel",
            "_view_count": null,
            "_view_module": "@jupyter-widgets/controls",
            "_view_module_version": "1.5.0",
            "_view_name": "HBoxView",
            "box_style": "",
            "children": [
              "IPY_MODEL_2c5479dd7b49401bbf772670154c0626",
              "IPY_MODEL_0728fd413ba747b68fe0f7f63ca3bb53",
              "IPY_MODEL_3860561b08ea431686a3592afb80e6f0"
            ],
            "layout": "IPY_MODEL_800c660ae46e4909aadd6d123b6b30c9"
          }
        },
        "214e526e1b464b949a9eea35975a85a1": {
          "model_module": "@jupyter-widgets/base",
          "model_module_version": "1.2.0",
          "model_name": "LayoutModel",
          "state": {
            "_model_module": "@jupyter-widgets/base",
            "_model_module_version": "1.2.0",
            "_model_name": "LayoutModel",
            "_view_count": null,
            "_view_module": "@jupyter-widgets/base",
            "_view_module_version": "1.2.0",
            "_view_name": "LayoutView",
            "align_content": null,
            "align_items": null,
            "align_self": null,
            "border": null,
            "bottom": null,
            "display": null,
            "flex": null,
            "flex_flow": null,
            "grid_area": null,
            "grid_auto_columns": null,
            "grid_auto_flow": null,
            "grid_auto_rows": null,
            "grid_column": null,
            "grid_gap": null,
            "grid_row": null,
            "grid_template_areas": null,
            "grid_template_columns": null,
            "grid_template_rows": null,
            "height": null,
            "justify_content": null,
            "justify_items": null,
            "left": null,
            "margin": null,
            "max_height": null,
            "max_width": null,
            "min_height": null,
            "min_width": null,
            "object_fit": null,
            "object_position": null,
            "order": null,
            "overflow": null,
            "overflow_x": null,
            "overflow_y": null,
            "padding": null,
            "right": null,
            "top": null,
            "visibility": null,
            "width": null
          }
        },
        "2c5479dd7b49401bbf772670154c0626": {
          "model_module": "@jupyter-widgets/controls",
          "model_module_version": "1.5.0",
          "model_name": "HTMLModel",
          "state": {
            "_dom_classes": [],
            "_model_module": "@jupyter-widgets/controls",
            "_model_module_version": "1.5.0",
            "_model_name": "HTMLModel",
            "_view_count": null,
            "_view_module": "@jupyter-widgets/controls",
            "_view_module_version": "1.5.0",
            "_view_name": "HTMLView",
            "description": "",
            "description_tooltip": null,
            "layout": "IPY_MODEL_f936c884edf242a68b5977391e953c31",
            "placeholder": "​",
            "style": "IPY_MODEL_0196d9eb04ae4ced89b53a509b84da15",
            "value": "Evaluating: 100%"
          }
        },
        "2d2421ddf1c94f7f8d1bce5fc8e219c9": {
          "model_module": "@jupyter-widgets/base",
          "model_module_version": "1.2.0",
          "model_name": "LayoutModel",
          "state": {
            "_model_module": "@jupyter-widgets/base",
            "_model_module_version": "1.2.0",
            "_model_name": "LayoutModel",
            "_view_count": null,
            "_view_module": "@jupyter-widgets/base",
            "_view_module_version": "1.2.0",
            "_view_name": "LayoutView",
            "align_content": null,
            "align_items": null,
            "align_self": null,
            "border": null,
            "bottom": null,
            "display": null,
            "flex": null,
            "flex_flow": null,
            "grid_area": null,
            "grid_auto_columns": null,
            "grid_auto_flow": null,
            "grid_auto_rows": null,
            "grid_column": null,
            "grid_gap": null,
            "grid_row": null,
            "grid_template_areas": null,
            "grid_template_columns": null,
            "grid_template_rows": null,
            "height": null,
            "justify_content": null,
            "justify_items": null,
            "left": null,
            "margin": null,
            "max_height": null,
            "max_width": null,
            "min_height": null,
            "min_width": null,
            "object_fit": null,
            "object_position": null,
            "order": null,
            "overflow": null,
            "overflow_x": null,
            "overflow_y": null,
            "padding": null,
            "right": null,
            "top": null,
            "visibility": null,
            "width": null
          }
        },
        "2d5c0ecde1764611828b6e809a3bc48e": {
          "model_module": "@jupyter-widgets/controls",
          "model_module_version": "1.5.0",
          "model_name": "DescriptionStyleModel",
          "state": {
            "_model_module": "@jupyter-widgets/controls",
            "_model_module_version": "1.5.0",
            "_model_name": "DescriptionStyleModel",
            "_view_count": null,
            "_view_module": "@jupyter-widgets/base",
            "_view_module_version": "1.2.0",
            "_view_name": "StyleView",
            "description_width": ""
          }
        },
        "2ddee23f88624aaaa225e6134e976a14": {
          "model_module": "@jupyter-widgets/controls",
          "model_module_version": "1.5.0",
          "model_name": "HBoxModel",
          "state": {
            "_dom_classes": [],
            "_model_module": "@jupyter-widgets/controls",
            "_model_module_version": "1.5.0",
            "_model_name": "HBoxModel",
            "_view_count": null,
            "_view_module": "@jupyter-widgets/controls",
            "_view_module_version": "1.5.0",
            "_view_name": "HBoxView",
            "box_style": "",
            "children": [
              "IPY_MODEL_16a4831a9f3b40de9bce9a16cf3fd1b7",
              "IPY_MODEL_b413bea9ed9e41fd84c0a62780e01728",
              "IPY_MODEL_4052787d406149f09fb1878d7164c3f7"
            ],
            "layout": "IPY_MODEL_4b8739c76a214a62987c9f22d4c70632"
          }
        },
        "30b6272765974eb0bf08eb1875fe979e": {
          "model_module": "@jupyter-widgets/base",
          "model_module_version": "1.2.0",
          "model_name": "LayoutModel",
          "state": {
            "_model_module": "@jupyter-widgets/base",
            "_model_module_version": "1.2.0",
            "_model_name": "LayoutModel",
            "_view_count": null,
            "_view_module": "@jupyter-widgets/base",
            "_view_module_version": "1.2.0",
            "_view_name": "LayoutView",
            "align_content": null,
            "align_items": null,
            "align_self": null,
            "border": null,
            "bottom": null,
            "display": null,
            "flex": null,
            "flex_flow": null,
            "grid_area": null,
            "grid_auto_columns": null,
            "grid_auto_flow": null,
            "grid_auto_rows": null,
            "grid_column": null,
            "grid_gap": null,
            "grid_row": null,
            "grid_template_areas": null,
            "grid_template_columns": null,
            "grid_template_rows": null,
            "height": null,
            "justify_content": null,
            "justify_items": null,
            "left": null,
            "margin": null,
            "max_height": null,
            "max_width": null,
            "min_height": null,
            "min_width": null,
            "object_fit": null,
            "object_position": null,
            "order": null,
            "overflow": null,
            "overflow_x": null,
            "overflow_y": null,
            "padding": null,
            "right": null,
            "top": null,
            "visibility": null,
            "width": null
          }
        },
        "3557e675a3544f9fb52c0992b76775ca": {
          "model_module": "@jupyter-widgets/controls",
          "model_module_version": "1.5.0",
          "model_name": "HTMLModel",
          "state": {
            "_dom_classes": [],
            "_model_module": "@jupyter-widgets/controls",
            "_model_module_version": "1.5.0",
            "_model_name": "HTMLModel",
            "_view_count": null,
            "_view_module": "@jupyter-widgets/controls",
            "_view_module_version": "1.5.0",
            "_view_name": "HTMLView",
            "description": "",
            "description_tooltip": null,
            "layout": "IPY_MODEL_a8244be351a44622b2a2b4c55bea4895",
            "placeholder": "​",
            "style": "IPY_MODEL_8d526848993547798b5490c3c58ea9b2",
            "value": "Downloading builder script: 100%"
          }
        },
        "3860561b08ea431686a3592afb80e6f0": {
          "model_module": "@jupyter-widgets/controls",
          "model_module_version": "1.5.0",
          "model_name": "HTMLModel",
          "state": {
            "_dom_classes": [],
            "_model_module": "@jupyter-widgets/controls",
            "_model_module_version": "1.5.0",
            "_model_name": "HTMLModel",
            "_view_count": null,
            "_view_module": "@jupyter-widgets/controls",
            "_view_module_version": "1.5.0",
            "_view_name": "HTMLView",
            "description": "",
            "description_tooltip": null,
            "layout": "IPY_MODEL_0c764ae8016048cd8caaf1e7d381324e",
            "placeholder": "​",
            "style": "IPY_MODEL_53c80f8fe29e41efad9d041c729a3b09",
            "value": " 300/300 [02:12&lt;00:00,  1.96it/s]"
          }
        },
        "3c7123af2c4b4a0a8201180e73ea1743": {
          "model_module": "@jupyter-widgets/controls",
          "model_module_version": "1.5.0",
          "model_name": "ProgressStyleModel",
          "state": {
            "_model_module": "@jupyter-widgets/controls",
            "_model_module_version": "1.5.0",
            "_model_name": "ProgressStyleModel",
            "_view_count": null,
            "_view_module": "@jupyter-widgets/base",
            "_view_module_version": "1.2.0",
            "_view_name": "StyleView",
            "bar_color": null,
            "description_width": ""
          }
        },
        "4052787d406149f09fb1878d7164c3f7": {
          "model_module": "@jupyter-widgets/controls",
          "model_module_version": "1.5.0",
          "model_name": "HTMLModel",
          "state": {
            "_dom_classes": [],
            "_model_module": "@jupyter-widgets/controls",
            "_model_module_version": "1.5.0",
            "_model_name": "HTMLModel",
            "_view_count": null,
            "_view_module": "@jupyter-widgets/controls",
            "_view_module_version": "1.5.0",
            "_view_name": "HTMLView",
            "description": "",
            "description_tooltip": null,
            "layout": "IPY_MODEL_0aac35398cb74a3297172d1681f02f3c",
            "placeholder": "​",
            "style": "IPY_MODEL_dfa68356dc624ec1af10990e62d4617a",
            "value": " 6.27k/6.27k [00:00&lt;00:00, 235kB/s]"
          }
        },
        "4b8739c76a214a62987c9f22d4c70632": {
          "model_module": "@jupyter-widgets/base",
          "model_module_version": "1.2.0",
          "model_name": "LayoutModel",
          "state": {
            "_model_module": "@jupyter-widgets/base",
            "_model_module_version": "1.2.0",
            "_model_name": "LayoutModel",
            "_view_count": null,
            "_view_module": "@jupyter-widgets/base",
            "_view_module_version": "1.2.0",
            "_view_name": "LayoutView",
            "align_content": null,
            "align_items": null,
            "align_self": null,
            "border": null,
            "bottom": null,
            "display": null,
            "flex": null,
            "flex_flow": null,
            "grid_area": null,
            "grid_auto_columns": null,
            "grid_auto_flow": null,
            "grid_auto_rows": null,
            "grid_column": null,
            "grid_gap": null,
            "grid_row": null,
            "grid_template_areas": null,
            "grid_template_columns": null,
            "grid_template_rows": null,
            "height": null,
            "justify_content": null,
            "justify_items": null,
            "left": null,
            "margin": null,
            "max_height": null,
            "max_width": null,
            "min_height": null,
            "min_width": null,
            "object_fit": null,
            "object_position": null,
            "order": null,
            "overflow": null,
            "overflow_x": null,
            "overflow_y": null,
            "padding": null,
            "right": null,
            "top": null,
            "visibility": null,
            "width": null
          }
        },
        "52f35e19233740618f2af87399f25488": {
          "model_module": "@jupyter-widgets/controls",
          "model_module_version": "1.5.0",
          "model_name": "ProgressStyleModel",
          "state": {
            "_model_module": "@jupyter-widgets/controls",
            "_model_module_version": "1.5.0",
            "_model_name": "ProgressStyleModel",
            "_view_count": null,
            "_view_module": "@jupyter-widgets/base",
            "_view_module_version": "1.2.0",
            "_view_name": "StyleView",
            "bar_color": null,
            "description_width": ""
          }
        },
        "53c80f8fe29e41efad9d041c729a3b09": {
          "model_module": "@jupyter-widgets/controls",
          "model_module_version": "1.5.0",
          "model_name": "DescriptionStyleModel",
          "state": {
            "_model_module": "@jupyter-widgets/controls",
            "_model_module_version": "1.5.0",
            "_model_name": "DescriptionStyleModel",
            "_view_count": null,
            "_view_module": "@jupyter-widgets/base",
            "_view_module_version": "1.2.0",
            "_view_name": "StyleView",
            "description_width": ""
          }
        },
        "5afd12ffe17e4b0d98840068585d02b3": {
          "model_module": "@jupyter-widgets/base",
          "model_module_version": "1.2.0",
          "model_name": "LayoutModel",
          "state": {
            "_model_module": "@jupyter-widgets/base",
            "_model_module_version": "1.2.0",
            "_model_name": "LayoutModel",
            "_view_count": null,
            "_view_module": "@jupyter-widgets/base",
            "_view_module_version": "1.2.0",
            "_view_name": "LayoutView",
            "align_content": null,
            "align_items": null,
            "align_self": null,
            "border": null,
            "bottom": null,
            "display": null,
            "flex": null,
            "flex_flow": null,
            "grid_area": null,
            "grid_auto_columns": null,
            "grid_auto_flow": null,
            "grid_auto_rows": null,
            "grid_column": null,
            "grid_gap": null,
            "grid_row": null,
            "grid_template_areas": null,
            "grid_template_columns": null,
            "grid_template_rows": null,
            "height": null,
            "justify_content": null,
            "justify_items": null,
            "left": null,
            "margin": null,
            "max_height": null,
            "max_width": null,
            "min_height": null,
            "min_width": null,
            "object_fit": null,
            "object_position": null,
            "order": null,
            "overflow": null,
            "overflow_x": null,
            "overflow_y": null,
            "padding": null,
            "right": null,
            "top": null,
            "visibility": null,
            "width": null
          }
        },
        "5fcdb708d96d4e65998a51a2b2c20565": {
          "model_module": "@jupyter-widgets/controls",
          "model_module_version": "1.5.0",
          "model_name": "HTMLModel",
          "state": {
            "_dom_classes": [],
            "_model_module": "@jupyter-widgets/controls",
            "_model_module_version": "1.5.0",
            "_model_name": "HTMLModel",
            "_view_count": null,
            "_view_module": "@jupyter-widgets/controls",
            "_view_module_version": "1.5.0",
            "_view_name": "HTMLView",
            "description": "",
            "description_tooltip": null,
            "layout": "IPY_MODEL_0d57e4a39f124fd79c5c050757caf124",
            "placeholder": "​",
            "style": "IPY_MODEL_ebfa9887ae0244e5bb831edb63081267",
            "value": "Downloading extra modules: 100%"
          }
        },
        "7c8b3cc953814879863e2173c6c2fcf5": {
          "model_module": "@jupyter-widgets/base",
          "model_module_version": "1.2.0",
          "model_name": "LayoutModel",
          "state": {
            "_model_module": "@jupyter-widgets/base",
            "_model_module_version": "1.2.0",
            "_model_name": "LayoutModel",
            "_view_count": null,
            "_view_module": "@jupyter-widgets/base",
            "_view_module_version": "1.2.0",
            "_view_name": "LayoutView",
            "align_content": null,
            "align_items": null,
            "align_self": null,
            "border": null,
            "bottom": null,
            "display": null,
            "flex": null,
            "flex_flow": null,
            "grid_area": null,
            "grid_auto_columns": null,
            "grid_auto_flow": null,
            "grid_auto_rows": null,
            "grid_column": null,
            "grid_gap": null,
            "grid_row": null,
            "grid_template_areas": null,
            "grid_template_columns": null,
            "grid_template_rows": null,
            "height": null,
            "justify_content": null,
            "justify_items": null,
            "left": null,
            "margin": null,
            "max_height": null,
            "max_width": null,
            "min_height": null,
            "min_width": null,
            "object_fit": null,
            "object_position": null,
            "order": null,
            "overflow": null,
            "overflow_x": null,
            "overflow_y": null,
            "padding": null,
            "right": null,
            "top": null,
            "visibility": null,
            "width": null
          }
        },
        "7e919cfda648476eb96d7da8a225dad6": {
          "model_module": "@jupyter-widgets/controls",
          "model_module_version": "1.5.0",
          "model_name": "FloatProgressModel",
          "state": {
            "_dom_classes": [],
            "_model_module": "@jupyter-widgets/controls",
            "_model_module_version": "1.5.0",
            "_model_name": "FloatProgressModel",
            "_view_count": null,
            "_view_module": "@jupyter-widgets/controls",
            "_view_module_version": "1.5.0",
            "_view_name": "ProgressView",
            "bar_style": "success",
            "description": "",
            "description_tooltip": null,
            "layout": "IPY_MODEL_214e526e1b464b949a9eea35975a85a1",
            "max": 3344,
            "min": 0,
            "orientation": "horizontal",
            "style": "IPY_MODEL_df7a21da09e24ce8bdd6fbc3d5a75fee",
            "value": 3344
          }
        },
        "800c660ae46e4909aadd6d123b6b30c9": {
          "model_module": "@jupyter-widgets/base",
          "model_module_version": "1.2.0",
          "model_name": "LayoutModel",
          "state": {
            "_model_module": "@jupyter-widgets/base",
            "_model_module_version": "1.2.0",
            "_model_name": "LayoutModel",
            "_view_count": null,
            "_view_module": "@jupyter-widgets/base",
            "_view_module_version": "1.2.0",
            "_view_name": "LayoutView",
            "align_content": null,
            "align_items": null,
            "align_self": null,
            "border": null,
            "bottom": null,
            "display": null,
            "flex": null,
            "flex_flow": null,
            "grid_area": null,
            "grid_auto_columns": null,
            "grid_auto_flow": null,
            "grid_auto_rows": null,
            "grid_column": null,
            "grid_gap": null,
            "grid_row": null,
            "grid_template_areas": null,
            "grid_template_columns": null,
            "grid_template_rows": null,
            "height": null,
            "justify_content": null,
            "justify_items": null,
            "left": null,
            "margin": null,
            "max_height": null,
            "max_width": null,
            "min_height": null,
            "min_width": null,
            "object_fit": null,
            "object_position": null,
            "order": null,
            "overflow": null,
            "overflow_x": null,
            "overflow_y": null,
            "padding": null,
            "right": null,
            "top": null,
            "visibility": null,
            "width": null
          }
        },
        "8891e08854874676b9a75e21601f91ae": {
          "model_module": "@jupyter-widgets/base",
          "model_module_version": "1.2.0",
          "model_name": "LayoutModel",
          "state": {
            "_model_module": "@jupyter-widgets/base",
            "_model_module_version": "1.2.0",
            "_model_name": "LayoutModel",
            "_view_count": null,
            "_view_module": "@jupyter-widgets/base",
            "_view_module_version": "1.2.0",
            "_view_name": "LayoutView",
            "align_content": null,
            "align_items": null,
            "align_self": null,
            "border": null,
            "bottom": null,
            "display": null,
            "flex": null,
            "flex_flow": null,
            "grid_area": null,
            "grid_auto_columns": null,
            "grid_auto_flow": null,
            "grid_auto_rows": null,
            "grid_column": null,
            "grid_gap": null,
            "grid_row": null,
            "grid_template_areas": null,
            "grid_template_columns": null,
            "grid_template_rows": null,
            "height": null,
            "justify_content": null,
            "justify_items": null,
            "left": null,
            "margin": null,
            "max_height": null,
            "max_width": null,
            "min_height": null,
            "min_width": null,
            "object_fit": null,
            "object_position": null,
            "order": null,
            "overflow": null,
            "overflow_x": null,
            "overflow_y": null,
            "padding": null,
            "right": null,
            "top": null,
            "visibility": null,
            "width": null
          }
        },
        "8d526848993547798b5490c3c58ea9b2": {
          "model_module": "@jupyter-widgets/controls",
          "model_module_version": "1.5.0",
          "model_name": "DescriptionStyleModel",
          "state": {
            "_model_module": "@jupyter-widgets/controls",
            "_model_module_version": "1.5.0",
            "_model_name": "DescriptionStyleModel",
            "_view_count": null,
            "_view_module": "@jupyter-widgets/base",
            "_view_module_version": "1.2.0",
            "_view_name": "StyleView",
            "description_width": ""
          }
        },
        "92e1fa80eb2940a6a13db57025a56cef": {
          "model_module": "@jupyter-widgets/controls",
          "model_module_version": "1.5.0",
          "model_name": "FloatProgressModel",
          "state": {
            "_dom_classes": [],
            "_model_module": "@jupyter-widgets/controls",
            "_model_module_version": "1.5.0",
            "_model_name": "FloatProgressModel",
            "_view_count": null,
            "_view_module": "@jupyter-widgets/controls",
            "_view_module_version": "1.5.0",
            "_view_name": "ProgressView",
            "bar_style": "success",
            "description": "",
            "description_tooltip": null,
            "layout": "IPY_MODEL_a1b107a0441d44028d9599a9ebf2ec43",
            "max": 1554,
            "min": 0,
            "orientation": "horizontal",
            "style": "IPY_MODEL_3c7123af2c4b4a0a8201180e73ea1743",
            "value": 1554
          }
        },
        "990da42ccf3f47ce85c52d812edc104f": {
          "model_module": "@jupyter-widgets/controls",
          "model_module_version": "1.5.0",
          "model_name": "FloatProgressModel",
          "state": {
            "_dom_classes": [],
            "_model_module": "@jupyter-widgets/controls",
            "_model_module_version": "1.5.0",
            "_model_name": "FloatProgressModel",
            "_view_count": null,
            "_view_module": "@jupyter-widgets/controls",
            "_view_module_version": "1.5.0",
            "_view_name": "ProgressView",
            "bar_style": "success",
            "description": "",
            "description_tooltip": null,
            "layout": "IPY_MODEL_7c8b3cc953814879863e2173c6c2fcf5",
            "max": 5937,
            "min": 0,
            "orientation": "horizontal",
            "style": "IPY_MODEL_a86865a0ef124053bd78639ee3227a43",
            "value": 5937
          }
        },
        "a1b107a0441d44028d9599a9ebf2ec43": {
          "model_module": "@jupyter-widgets/base",
          "model_module_version": "1.2.0",
          "model_name": "LayoutModel",
          "state": {
            "_model_module": "@jupyter-widgets/base",
            "_model_module_version": "1.2.0",
            "_model_name": "LayoutModel",
            "_view_count": null,
            "_view_module": "@jupyter-widgets/base",
            "_view_module_version": "1.2.0",
            "_view_name": "LayoutView",
            "align_content": null,
            "align_items": null,
            "align_self": null,
            "border": null,
            "bottom": null,
            "display": null,
            "flex": null,
            "flex_flow": null,
            "grid_area": null,
            "grid_auto_columns": null,
            "grid_auto_flow": null,
            "grid_auto_rows": null,
            "grid_column": null,
            "grid_gap": null,
            "grid_row": null,
            "grid_template_areas": null,
            "grid_template_columns": null,
            "grid_template_rows": null,
            "height": null,
            "justify_content": null,
            "justify_items": null,
            "left": null,
            "margin": null,
            "max_height": null,
            "max_width": null,
            "min_height": null,
            "min_width": null,
            "object_fit": null,
            "object_position": null,
            "order": null,
            "overflow": null,
            "overflow_x": null,
            "overflow_y": null,
            "padding": null,
            "right": null,
            "top": null,
            "visibility": null,
            "width": null
          }
        },
        "a61b1ebd3d3243a29679fbec79dbf580": {
          "model_module": "@jupyter-widgets/base",
          "model_module_version": "1.2.0",
          "model_name": "LayoutModel",
          "state": {
            "_model_module": "@jupyter-widgets/base",
            "_model_module_version": "1.2.0",
            "_model_name": "LayoutModel",
            "_view_count": null,
            "_view_module": "@jupyter-widgets/base",
            "_view_module_version": "1.2.0",
            "_view_name": "LayoutView",
            "align_content": null,
            "align_items": null,
            "align_self": null,
            "border": null,
            "bottom": null,
            "display": null,
            "flex": null,
            "flex_flow": null,
            "grid_area": null,
            "grid_auto_columns": null,
            "grid_auto_flow": null,
            "grid_auto_rows": null,
            "grid_column": null,
            "grid_gap": null,
            "grid_row": null,
            "grid_template_areas": null,
            "grid_template_columns": null,
            "grid_template_rows": null,
            "height": null,
            "justify_content": null,
            "justify_items": null,
            "left": null,
            "margin": null,
            "max_height": null,
            "max_width": null,
            "min_height": null,
            "min_width": null,
            "object_fit": null,
            "object_position": null,
            "order": null,
            "overflow": null,
            "overflow_x": null,
            "overflow_y": null,
            "padding": null,
            "right": null,
            "top": null,
            "visibility": null,
            "width": null
          }
        },
        "a8244be351a44622b2a2b4c55bea4895": {
          "model_module": "@jupyter-widgets/base",
          "model_module_version": "1.2.0",
          "model_name": "LayoutModel",
          "state": {
            "_model_module": "@jupyter-widgets/base",
            "_model_module_version": "1.2.0",
            "_model_name": "LayoutModel",
            "_view_count": null,
            "_view_module": "@jupyter-widgets/base",
            "_view_module_version": "1.2.0",
            "_view_name": "LayoutView",
            "align_content": null,
            "align_items": null,
            "align_self": null,
            "border": null,
            "bottom": null,
            "display": null,
            "flex": null,
            "flex_flow": null,
            "grid_area": null,
            "grid_auto_columns": null,
            "grid_auto_flow": null,
            "grid_auto_rows": null,
            "grid_column": null,
            "grid_gap": null,
            "grid_row": null,
            "grid_template_areas": null,
            "grid_template_columns": null,
            "grid_template_rows": null,
            "height": null,
            "justify_content": null,
            "justify_items": null,
            "left": null,
            "margin": null,
            "max_height": null,
            "max_width": null,
            "min_height": null,
            "min_width": null,
            "object_fit": null,
            "object_position": null,
            "order": null,
            "overflow": null,
            "overflow_x": null,
            "overflow_y": null,
            "padding": null,
            "right": null,
            "top": null,
            "visibility": null,
            "width": null
          }
        },
        "a86865a0ef124053bd78639ee3227a43": {
          "model_module": "@jupyter-widgets/controls",
          "model_module_version": "1.5.0",
          "model_name": "ProgressStyleModel",
          "state": {
            "_model_module": "@jupyter-widgets/controls",
            "_model_module_version": "1.5.0",
            "_model_name": "ProgressStyleModel",
            "_view_count": null,
            "_view_module": "@jupyter-widgets/base",
            "_view_module_version": "1.2.0",
            "_view_name": "StyleView",
            "bar_color": null,
            "description_width": ""
          }
        },
        "aef9b596c7a44de3a5fef39fe3576b46": {
          "model_module": "@jupyter-widgets/controls",
          "model_module_version": "1.5.0",
          "model_name": "HTMLModel",
          "state": {
            "_dom_classes": [],
            "_model_module": "@jupyter-widgets/controls",
            "_model_module_version": "1.5.0",
            "_model_name": "HTMLModel",
            "_view_count": null,
            "_view_module": "@jupyter-widgets/controls",
            "_view_module_version": "1.5.0",
            "_view_name": "HTMLView",
            "description": "",
            "description_tooltip": null,
            "layout": "IPY_MODEL_154a8df2236b403cb7cc0e580dd56b9e",
            "placeholder": "​",
            "style": "IPY_MODEL_f2ffdedeb2f94533acbebba47b2d700d",
            "value": "Downloading extra modules: "
          }
        },
        "b134d337d9164dfd9407f93a48119265": {
          "model_module": "@jupyter-widgets/base",
          "model_module_version": "1.2.0",
          "model_name": "LayoutModel",
          "state": {
            "_model_module": "@jupyter-widgets/base",
            "_model_module_version": "1.2.0",
            "_model_name": "LayoutModel",
            "_view_count": null,
            "_view_module": "@jupyter-widgets/base",
            "_view_module_version": "1.2.0",
            "_view_name": "LayoutView",
            "align_content": null,
            "align_items": null,
            "align_self": null,
            "border": null,
            "bottom": null,
            "display": null,
            "flex": null,
            "flex_flow": null,
            "grid_area": null,
            "grid_auto_columns": null,
            "grid_auto_flow": null,
            "grid_auto_rows": null,
            "grid_column": null,
            "grid_gap": null,
            "grid_row": null,
            "grid_template_areas": null,
            "grid_template_columns": null,
            "grid_template_rows": null,
            "height": null,
            "justify_content": null,
            "justify_items": null,
            "left": null,
            "margin": null,
            "max_height": null,
            "max_width": null,
            "min_height": null,
            "min_width": null,
            "object_fit": null,
            "object_position": null,
            "order": null,
            "overflow": null,
            "overflow_x": null,
            "overflow_y": null,
            "padding": null,
            "right": null,
            "top": null,
            "visibility": null,
            "width": null
          }
        },
        "b413bea9ed9e41fd84c0a62780e01728": {
          "model_module": "@jupyter-widgets/controls",
          "model_module_version": "1.5.0",
          "model_name": "FloatProgressModel",
          "state": {
            "_dom_classes": [],
            "_model_module": "@jupyter-widgets/controls",
            "_model_module_version": "1.5.0",
            "_model_name": "FloatProgressModel",
            "_view_count": null,
            "_view_module": "@jupyter-widgets/controls",
            "_view_module_version": "1.5.0",
            "_view_name": "ProgressView",
            "bar_style": "success",
            "description": "",
            "description_tooltip": null,
            "layout": "IPY_MODEL_a61b1ebd3d3243a29679fbec79dbf580",
            "max": 6270,
            "min": 0,
            "orientation": "horizontal",
            "style": "IPY_MODEL_52f35e19233740618f2af87399f25488",
            "value": 6270
          }
        },
        "b71ead46c50646b683af5f765402919d": {
          "model_module": "@jupyter-widgets/controls",
          "model_module_version": "1.5.0",
          "model_name": "HBoxModel",
          "state": {
            "_dom_classes": [],
            "_model_module": "@jupyter-widgets/controls",
            "_model_module_version": "1.5.0",
            "_model_name": "HBoxModel",
            "_view_count": null,
            "_view_module": "@jupyter-widgets/controls",
            "_view_module_version": "1.5.0",
            "_view_name": "HBoxView",
            "box_style": "",
            "children": [
              "IPY_MODEL_5fcdb708d96d4e65998a51a2b2c20565",
              "IPY_MODEL_7e919cfda648476eb96d7da8a225dad6",
              "IPY_MODEL_e9c9b5b721c044b1a98eec172f2c45f0"
            ],
            "layout": "IPY_MODEL_ec1b0bbf3f284e468d38ed1470a58ac6"
          }
        },
        "c32fcf5ae0e14498a67720f090f11735": {
          "model_module": "@jupyter-widgets/controls",
          "model_module_version": "1.5.0",
          "model_name": "HBoxModel",
          "state": {
            "_dom_classes": [],
            "_model_module": "@jupyter-widgets/controls",
            "_model_module_version": "1.5.0",
            "_model_name": "HBoxModel",
            "_view_count": null,
            "_view_module": "@jupyter-widgets/controls",
            "_view_module_version": "1.5.0",
            "_view_name": "HBoxView",
            "box_style": "",
            "children": [
              "IPY_MODEL_3557e675a3544f9fb52c0992b76775ca",
              "IPY_MODEL_990da42ccf3f47ce85c52d812edc104f",
              "IPY_MODEL_cd6b82fce4f6412286ad252755e03d0c"
            ],
            "layout": "IPY_MODEL_0afbd24ad3ac4729b77732c0bc012e98"
          }
        },
        "cd6b82fce4f6412286ad252755e03d0c": {
          "model_module": "@jupyter-widgets/controls",
          "model_module_version": "1.5.0",
          "model_name": "HTMLModel",
          "state": {
            "_dom_classes": [],
            "_model_module": "@jupyter-widgets/controls",
            "_model_module_version": "1.5.0",
            "_model_name": "HTMLModel",
            "_view_count": null,
            "_view_module": "@jupyter-widgets/controls",
            "_view_module_version": "1.5.0",
            "_view_name": "HTMLView",
            "description": "",
            "description_tooltip": null,
            "layout": "IPY_MODEL_b134d337d9164dfd9407f93a48119265",
            "placeholder": "​",
            "style": "IPY_MODEL_fdcaefe3724b4123b167df9fc1d0186c",
            "value": " 5.94k/5.94k [00:00&lt;00:00, 112kB/s]"
          }
        },
        "d69c1f4ee0b84170b0bf938962eb1338": {
          "model_module": "@jupyter-widgets/base",
          "model_module_version": "1.2.0",
          "model_name": "LayoutModel",
          "state": {
            "_model_module": "@jupyter-widgets/base",
            "_model_module_version": "1.2.0",
            "_model_name": "LayoutModel",
            "_view_count": null,
            "_view_module": "@jupyter-widgets/base",
            "_view_module_version": "1.2.0",
            "_view_name": "LayoutView",
            "align_content": null,
            "align_items": null,
            "align_self": null,
            "border": null,
            "bottom": null,
            "display": null,
            "flex": null,
            "flex_flow": null,
            "grid_area": null,
            "grid_auto_columns": null,
            "grid_auto_flow": null,
            "grid_auto_rows": null,
            "grid_column": null,
            "grid_gap": null,
            "grid_row": null,
            "grid_template_areas": null,
            "grid_template_columns": null,
            "grid_template_rows": null,
            "height": null,
            "justify_content": null,
            "justify_items": null,
            "left": null,
            "margin": null,
            "max_height": null,
            "max_width": null,
            "min_height": null,
            "min_width": null,
            "object_fit": null,
            "object_position": null,
            "order": null,
            "overflow": null,
            "overflow_x": null,
            "overflow_y": null,
            "padding": null,
            "right": null,
            "top": null,
            "visibility": null,
            "width": null
          }
        },
        "d8c13f2a1dbd456386504e5c3e396289": {
          "model_module": "@jupyter-widgets/controls",
          "model_module_version": "1.5.0",
          "model_name": "ProgressStyleModel",
          "state": {
            "_model_module": "@jupyter-widgets/controls",
            "_model_module_version": "1.5.0",
            "_model_name": "ProgressStyleModel",
            "_view_count": null,
            "_view_module": "@jupyter-widgets/base",
            "_view_module_version": "1.2.0",
            "_view_name": "StyleView",
            "bar_color": null,
            "description_width": ""
          }
        },
        "dd30fd595785414c8d8d6e9094e2f363": {
          "model_module": "@jupyter-widgets/controls",
          "model_module_version": "1.5.0",
          "model_name": "HBoxModel",
          "state": {
            "_dom_classes": [],
            "_model_module": "@jupyter-widgets/controls",
            "_model_module_version": "1.5.0",
            "_model_name": "HBoxModel",
            "_view_count": null,
            "_view_module": "@jupyter-widgets/controls",
            "_view_module_version": "1.5.0",
            "_view_name": "HBoxView",
            "box_style": "",
            "children": [
              "IPY_MODEL_aef9b596c7a44de3a5fef39fe3576b46",
              "IPY_MODEL_92e1fa80eb2940a6a13db57025a56cef",
              "IPY_MODEL_0149807d164b41449767e6fc8edd00b4"
            ],
            "layout": "IPY_MODEL_5afd12ffe17e4b0d98840068585d02b3"
          }
        },
        "df7a21da09e24ce8bdd6fbc3d5a75fee": {
          "model_module": "@jupyter-widgets/controls",
          "model_module_version": "1.5.0",
          "model_name": "ProgressStyleModel",
          "state": {
            "_model_module": "@jupyter-widgets/controls",
            "_model_module_version": "1.5.0",
            "_model_name": "ProgressStyleModel",
            "_view_count": null,
            "_view_module": "@jupyter-widgets/base",
            "_view_module_version": "1.2.0",
            "_view_name": "StyleView",
            "bar_color": null,
            "description_width": ""
          }
        },
        "dfa68356dc624ec1af10990e62d4617a": {
          "model_module": "@jupyter-widgets/controls",
          "model_module_version": "1.5.0",
          "model_name": "DescriptionStyleModel",
          "state": {
            "_model_module": "@jupyter-widgets/controls",
            "_model_module_version": "1.5.0",
            "_model_name": "DescriptionStyleModel",
            "_view_count": null,
            "_view_module": "@jupyter-widgets/base",
            "_view_module_version": "1.2.0",
            "_view_name": "StyleView",
            "description_width": ""
          }
        },
        "e526a7c0775f4371ae9717cdc965f83a": {
          "model_module": "@jupyter-widgets/controls",
          "model_module_version": "1.5.0",
          "model_name": "DescriptionStyleModel",
          "state": {
            "_model_module": "@jupyter-widgets/controls",
            "_model_module_version": "1.5.0",
            "_model_name": "DescriptionStyleModel",
            "_view_count": null,
            "_view_module": "@jupyter-widgets/base",
            "_view_module_version": "1.2.0",
            "_view_name": "StyleView",
            "description_width": ""
          }
        },
        "e9c9b5b721c044b1a98eec172f2c45f0": {
          "model_module": "@jupyter-widgets/controls",
          "model_module_version": "1.5.0",
          "model_name": "HTMLModel",
          "state": {
            "_dom_classes": [],
            "_model_module": "@jupyter-widgets/controls",
            "_model_module_version": "1.5.0",
            "_model_name": "HTMLModel",
            "_view_count": null,
            "_view_module": "@jupyter-widgets/controls",
            "_view_module_version": "1.5.0",
            "_view_name": "HTMLView",
            "description": "",
            "description_tooltip": null,
            "layout": "IPY_MODEL_2d2421ddf1c94f7f8d1bce5fc8e219c9",
            "placeholder": "​",
            "style": "IPY_MODEL_2d5c0ecde1764611828b6e809a3bc48e",
            "value": " 3.34k/3.34k [00:00&lt;00:00, 136kB/s]"
          }
        },
        "ebfa9887ae0244e5bb831edb63081267": {
          "model_module": "@jupyter-widgets/controls",
          "model_module_version": "1.5.0",
          "model_name": "DescriptionStyleModel",
          "state": {
            "_model_module": "@jupyter-widgets/controls",
            "_model_module_version": "1.5.0",
            "_model_name": "DescriptionStyleModel",
            "_view_count": null,
            "_view_module": "@jupyter-widgets/base",
            "_view_module_version": "1.2.0",
            "_view_name": "StyleView",
            "description_width": ""
          }
        },
        "ec1b0bbf3f284e468d38ed1470a58ac6": {
          "model_module": "@jupyter-widgets/base",
          "model_module_version": "1.2.0",
          "model_name": "LayoutModel",
          "state": {
            "_model_module": "@jupyter-widgets/base",
            "_model_module_version": "1.2.0",
            "_model_name": "LayoutModel",
            "_view_count": null,
            "_view_module": "@jupyter-widgets/base",
            "_view_module_version": "1.2.0",
            "_view_name": "LayoutView",
            "align_content": null,
            "align_items": null,
            "align_self": null,
            "border": null,
            "bottom": null,
            "display": null,
            "flex": null,
            "flex_flow": null,
            "grid_area": null,
            "grid_auto_columns": null,
            "grid_auto_flow": null,
            "grid_auto_rows": null,
            "grid_column": null,
            "grid_gap": null,
            "grid_row": null,
            "grid_template_areas": null,
            "grid_template_columns": null,
            "grid_template_rows": null,
            "height": null,
            "justify_content": null,
            "justify_items": null,
            "left": null,
            "margin": null,
            "max_height": null,
            "max_width": null,
            "min_height": null,
            "min_width": null,
            "object_fit": null,
            "object_position": null,
            "order": null,
            "overflow": null,
            "overflow_x": null,
            "overflow_y": null,
            "padding": null,
            "right": null,
            "top": null,
            "visibility": null,
            "width": null
          }
        },
        "efdbf5c706754a0a92577275596fb1a2": {
          "model_module": "@jupyter-widgets/controls",
          "model_module_version": "1.5.0",
          "model_name": "DescriptionStyleModel",
          "state": {
            "_model_module": "@jupyter-widgets/controls",
            "_model_module_version": "1.5.0",
            "_model_name": "DescriptionStyleModel",
            "_view_count": null,
            "_view_module": "@jupyter-widgets/base",
            "_view_module_version": "1.2.0",
            "_view_name": "StyleView",
            "description_width": ""
          }
        },
        "f2ffdedeb2f94533acbebba47b2d700d": {
          "model_module": "@jupyter-widgets/controls",
          "model_module_version": "1.5.0",
          "model_name": "DescriptionStyleModel",
          "state": {
            "_model_module": "@jupyter-widgets/controls",
            "_model_module_version": "1.5.0",
            "_model_name": "DescriptionStyleModel",
            "_view_count": null,
            "_view_module": "@jupyter-widgets/base",
            "_view_module_version": "1.2.0",
            "_view_name": "StyleView",
            "description_width": ""
          }
        },
        "f936c884edf242a68b5977391e953c31": {
          "model_module": "@jupyter-widgets/base",
          "model_module_version": "1.2.0",
          "model_name": "LayoutModel",
          "state": {
            "_model_module": "@jupyter-widgets/base",
            "_model_module_version": "1.2.0",
            "_model_name": "LayoutModel",
            "_view_count": null,
            "_view_module": "@jupyter-widgets/base",
            "_view_module_version": "1.2.0",
            "_view_name": "LayoutView",
            "align_content": null,
            "align_items": null,
            "align_self": null,
            "border": null,
            "bottom": null,
            "display": null,
            "flex": null,
            "flex_flow": null,
            "grid_area": null,
            "grid_auto_columns": null,
            "grid_auto_flow": null,
            "grid_auto_rows": null,
            "grid_column": null,
            "grid_gap": null,
            "grid_row": null,
            "grid_template_areas": null,
            "grid_template_columns": null,
            "grid_template_rows": null,
            "height": null,
            "justify_content": null,
            "justify_items": null,
            "left": null,
            "margin": null,
            "max_height": null,
            "max_width": null,
            "min_height": null,
            "min_width": null,
            "object_fit": null,
            "object_position": null,
            "order": null,
            "overflow": null,
            "overflow_x": null,
            "overflow_y": null,
            "padding": null,
            "right": null,
            "top": null,
            "visibility": null,
            "width": null
          }
        },
        "fdcaefe3724b4123b167df9fc1d0186c": {
          "model_module": "@jupyter-widgets/controls",
          "model_module_version": "1.5.0",
          "model_name": "DescriptionStyleModel",
          "state": {
            "_model_module": "@jupyter-widgets/controls",
            "_model_module_version": "1.5.0",
            "_model_name": "DescriptionStyleModel",
            "_view_count": null,
            "_view_module": "@jupyter-widgets/base",
            "_view_module_version": "1.2.0",
            "_view_name": "StyleView",
            "description_width": ""
          }
        }
      }
    }
  },
  "nbformat": 4,
  "nbformat_minor": 5
}
